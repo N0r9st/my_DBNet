{
 "cells": [
  {
   "cell_type": "code",
   "execution_count": 2,
   "metadata": {},
   "outputs": [],
   "source": [
    "from collections import OrderedDict\n",
    "from torch.optim import Adam\n",
    "from torch import nn\n",
    "\n",
    "from backbone import resnet18\n",
    "from neck import FPN\n",
    "from head import DBHead\n",
    "from loss import DBLoss\n",
    "from WarmupPolyLR import WarmupPolyLR\n",
    "\n",
    "model = nn.Sequential(OrderedDict([\n",
    "                                   ('backbone', resnet18(pretrained=True)),\n",
    "                                   ('neck', FPN([64,128,256,512])),\n",
    "                                   ('head', DBHead(256))\n",
    "]))\n",
    "criterion = DBLoss()\n",
    "optimizer = Adam(model.parameters(), lr=0.001)\n",
    "scheduler = WarmupPolyLR(optimizer=optimizer, warmup_epoch=3)"
   ]
  },
  {
   "cell_type": "code",
   "execution_count": 21,
   "metadata": {},
   "outputs": [],
   "source": [
    "from datasets.ICDAR2015Dataset import ICDAR2015Dataset, ICDARCollectFN\n",
    "from torchvision import transforms\n",
    "import torch\n",
    "\n",
    "def get_transforms(transforms_config):\n",
    "    tr_list = []\n",
    "    for item in transforms_config:\n",
    "        if 'args' not in item:\n",
    "            args = {}\n",
    "        else:\n",
    "            args = item['args']\n",
    "        cls = getattr(transforms, item['type'])(**args)\n",
    "        tr_list.append(cls)\n",
    "    tr_list = transforms.Compose(tr_list)\n",
    "    return tr_list\n",
    "    \n",
    "img_transfroms = get_transforms([{'args': {}, 'type': 'ToTensor'},\n",
    " {'args': {'mean': [0.485, 0.456, 0.406], 'std': [0.229, 0.224, 0.225]},\n",
    "  'type': 'Normalize'}])\n",
    "\n",
    "data = ICDAR2015Dataset(['data/streets/train.txt'], \n",
    "                        img_mode= 'RGB',\n",
    "                        filter_keys=['img_path',\n",
    "                                      'img_name',\n",
    "                                      'text_polys',\n",
    "                                      'texts',\n",
    "                                      'ignore_tags',\n",
    "                                      'shape'],\n",
    "                        transform=img_transfroms, \n",
    "                        ignore_tags= ['*', '###'], \n",
    "                        pre_processes=[{'args': [{'args': {'p': 0.5}, 'type': 'Fliplr'},\n",
    "                                                 {'args': {'rotate': [-10, 10]}, 'type': 'Affine'},\n",
    "                                                 {'args': {'size': [0.5, 3]}, 'type': 'Resize'}], 'type': 'IaaAugment'},\n",
    "                                       {'args': {'keep_ratio': True, 'max_tries': 50, 'size': [640, 640]},\n",
    "                                        'type': 'EastRandomCropData'},\n",
    "                                       {'args': {'shrink_ratio': 0.4, 'thresh_max': 0.7, 'thresh_min': 0.3},\n",
    "                                        'type': 'MakeBorderMap'},\n",
    "                                       {'args': {'min_text_size': 8, 'shrink_ratio': 0.4}, 'type': 'MakeShrinkMap'}])\n",
    "\n",
    "\n",
    "data_validation = ICDAR2015Dataset(['data/streets/test.txt'],img_mode= 'RGB',filter_keys=[],\n",
    "                                   ignore_tags= ['*', '###'], \n",
    "                                   transform=img_transfroms,\n",
    "                                   pre_processes=[\n",
    "                                       {'args': {'shrink_ratio': 0.4, 'thresh_max': 0.7, 'thresh_min': 0.3},\n",
    "                                        'type': 'MakeBorderMap'},\n",
    "                                       {'args': {'min_text_size': 8, 'shrink_ratio': 0.4}, 'type': 'MakeShrinkMap'}],)"
   ]
  },
  {
   "cell_type": "code",
   "execution_count": 30,
   "metadata": {},
   "outputs": [],
   "source": [
    "from torch.utils.data import DataLoader\n",
    "loader = DataLoader(dataset=data, batch_size=1, shuffle=True, num_workers=0, pin_memory=True)\n",
    "loader_validation = DataLoader(dataset=data_validation, batch_size=1, shuffle=True, num_workers=6, pin_memory=False)"
   ]
  },
  {
   "cell_type": "code",
   "execution_count": 40,
   "metadata": {},
   "outputs": [],
   "source": [
    "from time import time\n",
    "import numpy as np\n",
    "from tqdm import tqdm\n",
    "\n",
    "\n",
    "device = 'cuda'\n",
    "BATCH_SIZE=1\n",
    "def train_epoch(epoch):\n",
    "    model.to(device)\n",
    "    model.train()\n",
    "    epoch_start = time()\n",
    "    \n",
    "\n",
    "    for i, batch in tqdm(enumerate(loader), total=len(loader), desc='train epoch {}'.format(epoch)):\n",
    "        if i >= len(data)/BATCH_SIZE:\n",
    "            break\n",
    "        batch_start = time()\n",
    "\n",
    "        for key, value in batch.items():\n",
    "            if value is not None:\n",
    "                if isinstance(value, torch.Tensor):\n",
    "                    batch[key] = value.to(device)\n",
    "\n",
    "        preds = model(batch['img'])\n",
    "        loss_dict = criterion(preds, batch)\n",
    "        # backward\n",
    "        optimizer.zero_grad()\n",
    "        loss_dict['loss'].backward()\n",
    "        optimizer.step()\n",
    "        scheduler.step()\n",
    "        #if (i+1)%100==0:\n",
    "            #print('{loss:5}---{loss_binary_maps:5}---{loss_shrink_maps:5}---{loss_threshold_maps:5}'.format(**loss_dict))\n",
    "            #print('EPOCH--{}, --{}/{}batch_time:'.format(epoch, i,len(data)/BATCH_SIZE), time() - batch_start)\n",
    "\n",
    "    print('time', time() - epoch_start)\n",
    "    \n",
    "    \n",
    "def validate(epoch):\n",
    "    model.to(device)\n",
    "    model.train()\n",
    "    losses = []\n",
    "    with torch.no_grad():\n",
    "        for i, batch in tqdm(enumerate(loader_validation), total=len(loader_validation), desc='test model'):\n",
    "            if i >= len(data_validation)/BATCH_SIZE:\n",
    "                break\n",
    "            for key, value in batch.items():\n",
    "                if value is not None:\n",
    "                    if isinstance(value, torch.Tensor):\n",
    "                        batch[key] = value.to(device)\n",
    "            preds = model(batch['img'])\n",
    "            loss_dict = criterion(preds, batch)\n",
    "            losses.append(loss_dict['loss'])\n",
    "    print('VALIDATION LOSSES ON EPOCH {}:'.format(epoch), torch.tensor(losses).mean())\n",
    "    return torch.tensor(losses).mean()"
   ]
  },
  {
   "cell_type": "code",
   "execution_count": null,
   "metadata": {},
   "outputs": [
    {
     "name": "stderr",
     "output_type": "stream",
     "text": [
      "train epoch 0: 100%|██████████| 1000/1000 [01:29<00:00, 11.16it/s]"
     ]
    },
    {
     "name": "stdout",
     "output_type": "stream",
     "text": [
      "time 89.604421377182\n",
      "0 EPOCH TIME: 1.0 mins 30 sec\n"
     ]
    },
    {
     "name": "stderr",
     "output_type": "stream",
     "text": [
      "\n",
      "test model: 100%|██████████| 500/500 [00:37<00:00, 13.20it/s]\n"
     ]
    },
    {
     "name": "stdout",
     "output_type": "stream",
     "text": [
      "VALIDATION LOSSES ON EPOCH 0: tensor(1.7949)\n",
      "NEW BEST!\n"
     ]
    },
    {
     "name": "stderr",
     "output_type": "stream",
     "text": [
      "train epoch 1: 100%|██████████| 1000/1000 [01:27<00:00, 11.37it/s]"
     ]
    },
    {
     "name": "stdout",
     "output_type": "stream",
     "text": [
      "time 87.93971729278564\n",
      "1 EPOCH TIME: 1.0 mins 28 sec\n"
     ]
    },
    {
     "name": "stderr",
     "output_type": "stream",
     "text": [
      "\n",
      "test model: 100%|██████████| 500/500 [00:38<00:00, 13.11it/s]\n"
     ]
    },
    {
     "name": "stdout",
     "output_type": "stream",
     "text": [
      "VALIDATION LOSSES ON EPOCH 1: tensor(1.6946)\n",
      "NEW BEST!\n"
     ]
    },
    {
     "name": "stderr",
     "output_type": "stream",
     "text": [
      "train epoch 2: 100%|██████████| 1000/1000 [01:28<00:00, 11.26it/s]"
     ]
    },
    {
     "name": "stdout",
     "output_type": "stream",
     "text": [
      "time 88.79413080215454\n",
      "2 EPOCH TIME: 1.0 mins 29 sec\n"
     ]
    },
    {
     "name": "stderr",
     "output_type": "stream",
     "text": [
      "\n",
      "test model: 100%|██████████| 500/500 [00:38<00:00, 13.10it/s]\n"
     ]
    },
    {
     "name": "stdout",
     "output_type": "stream",
     "text": [
      "VALIDATION LOSSES ON EPOCH 2: tensor(1.7449)\n"
     ]
    },
    {
     "name": "stderr",
     "output_type": "stream",
     "text": [
      "train epoch 3: 100%|██████████| 1000/1000 [01:28<00:00, 11.25it/s]"
     ]
    },
    {
     "name": "stdout",
     "output_type": "stream",
     "text": [
      "time 88.91104507446289\n",
      "3 EPOCH TIME: 1.0 mins 29 sec\n"
     ]
    },
    {
     "name": "stderr",
     "output_type": "stream",
     "text": [
      "\n",
      "test model: 100%|██████████| 500/500 [00:38<00:00, 13.12it/s]\n"
     ]
    },
    {
     "name": "stdout",
     "output_type": "stream",
     "text": [
      "VALIDATION LOSSES ON EPOCH 3: tensor(1.6863)\n",
      "NEW BEST!\n"
     ]
    },
    {
     "name": "stderr",
     "output_type": "stream",
     "text": [
      "train epoch 4: 100%|██████████| 1000/1000 [01:28<00:00, 11.33it/s]"
     ]
    },
    {
     "name": "stdout",
     "output_type": "stream",
     "text": [
      "time 88.2309992313385\n",
      "4 EPOCH TIME: 1.0 mins 28 sec\n"
     ]
    },
    {
     "name": "stderr",
     "output_type": "stream",
     "text": [
      "\n",
      "test model: 100%|██████████| 500/500 [00:38<00:00, 13.05it/s]\n"
     ]
    },
    {
     "name": "stdout",
     "output_type": "stream",
     "text": [
      "VALIDATION LOSSES ON EPOCH 4: tensor(1.7172)\n"
     ]
    },
    {
     "name": "stderr",
     "output_type": "stream",
     "text": [
      "train epoch 5: 100%|██████████| 1000/1000 [01:27<00:00, 11.38it/s]"
     ]
    },
    {
     "name": "stdout",
     "output_type": "stream",
     "text": [
      "time 87.8430449962616\n",
      "5 EPOCH TIME: 1.0 mins 28 sec\n"
     ]
    },
    {
     "name": "stderr",
     "output_type": "stream",
     "text": [
      "\n",
      "test model: 100%|██████████| 500/500 [00:38<00:00, 12.95it/s]\n"
     ]
    },
    {
     "name": "stdout",
     "output_type": "stream",
     "text": [
      "VALIDATION LOSSES ON EPOCH 5: tensor(1.6963)\n"
     ]
    },
    {
     "name": "stderr",
     "output_type": "stream",
     "text": [
      "train epoch 6: 100%|██████████| 1000/1000 [01:28<00:00, 11.36it/s]"
     ]
    },
    {
     "name": "stdout",
     "output_type": "stream",
     "text": [
      "time 88.06242823600769\n",
      "6 EPOCH TIME: 1.0 mins 28 sec\n"
     ]
    },
    {
     "name": "stderr",
     "output_type": "stream",
     "text": [
      "\n",
      "test model: 100%|██████████| 500/500 [00:38<00:00, 13.15it/s]\n"
     ]
    },
    {
     "name": "stdout",
     "output_type": "stream",
     "text": [
      "VALIDATION LOSSES ON EPOCH 6: tensor(1.6700)\n",
      "NEW BEST!\n"
     ]
    },
    {
     "name": "stderr",
     "output_type": "stream",
     "text": [
      "train epoch 7: 100%|██████████| 1000/1000 [01:28<00:00, 11.32it/s]"
     ]
    },
    {
     "name": "stdout",
     "output_type": "stream",
     "text": [
      "time 88.34760475158691\n",
      "7 EPOCH TIME: 1.0 mins 28 sec\n"
     ]
    },
    {
     "name": "stderr",
     "output_type": "stream",
     "text": [
      "\n",
      "test model: 100%|██████████| 500/500 [00:37<00:00, 13.17it/s]\n"
     ]
    },
    {
     "name": "stdout",
     "output_type": "stream",
     "text": [
      "VALIDATION LOSSES ON EPOCH 7: tensor(1.6461)\n",
      "NEW BEST!\n"
     ]
    },
    {
     "name": "stderr",
     "output_type": "stream",
     "text": [
      "train epoch 8: 100%|██████████| 1000/1000 [01:27<00:00, 11.37it/s]"
     ]
    },
    {
     "name": "stdout",
     "output_type": "stream",
     "text": [
      "time 87.95426344871521\n",
      "8 EPOCH TIME: 1.0 mins 28 sec\n"
     ]
    },
    {
     "name": "stderr",
     "output_type": "stream",
     "text": [
      "\n",
      "test model: 100%|██████████| 500/500 [00:38<00:00, 13.14it/s]\n"
     ]
    },
    {
     "name": "stdout",
     "output_type": "stream",
     "text": [
      "VALIDATION LOSSES ON EPOCH 8: tensor(1.7062)\n"
     ]
    },
    {
     "name": "stderr",
     "output_type": "stream",
     "text": [
      "train epoch 9: 100%|██████████| 1000/1000 [01:27<00:00, 11.48it/s]"
     ]
    },
    {
     "name": "stdout",
     "output_type": "stream",
     "text": [
      "time 87.1034369468689\n",
      "9 EPOCH TIME: 1.0 mins 27 sec\n"
     ]
    },
    {
     "name": "stderr",
     "output_type": "stream",
     "text": [
      "\n",
      "test model: 100%|██████████| 500/500 [00:37<00:00, 13.24it/s]\n"
     ]
    },
    {
     "name": "stdout",
     "output_type": "stream",
     "text": [
      "VALIDATION LOSSES ON EPOCH 9: tensor(1.6911)\n"
     ]
    },
    {
     "name": "stderr",
     "output_type": "stream",
     "text": [
      "train epoch 10: 100%|██████████| 1000/1000 [01:27<00:00, 11.45it/s]"
     ]
    },
    {
     "name": "stdout",
     "output_type": "stream",
     "text": [
      "time 87.32587385177612\n",
      "10 EPOCH TIME: 1.0 mins 27 sec\n"
     ]
    },
    {
     "name": "stderr",
     "output_type": "stream",
     "text": [
      "\n",
      "test model: 100%|██████████| 500/500 [00:37<00:00, 13.20it/s]\n"
     ]
    },
    {
     "name": "stdout",
     "output_type": "stream",
     "text": [
      "VALIDATION LOSSES ON EPOCH 10: tensor(1.7540)\n"
     ]
    },
    {
     "name": "stderr",
     "output_type": "stream",
     "text": [
      "train epoch 11: 100%|██████████| 1000/1000 [01:28<00:00, 11.24it/s]"
     ]
    },
    {
     "name": "stdout",
     "output_type": "stream",
     "text": [
      "time 88.94805836677551\n",
      "11 EPOCH TIME: 1.0 mins 29 sec\n"
     ]
    },
    {
     "name": "stderr",
     "output_type": "stream",
     "text": [
      "\n",
      "test model: 100%|██████████| 500/500 [00:38<00:00, 13.16it/s]\n"
     ]
    },
    {
     "name": "stdout",
     "output_type": "stream",
     "text": [
      "VALIDATION LOSSES ON EPOCH 11: tensor(1.6649)\n"
     ]
    },
    {
     "name": "stderr",
     "output_type": "stream",
     "text": [
      "train epoch 12: 100%|██████████| 1000/1000 [01:27<00:00, 11.42it/s]"
     ]
    },
    {
     "name": "stdout",
     "output_type": "stream",
     "text": [
      "time 87.5717089176178\n",
      "12 EPOCH TIME: 1.0 mins 28 sec\n"
     ]
    },
    {
     "name": "stderr",
     "output_type": "stream",
     "text": [
      "\n",
      "test model: 100%|██████████| 500/500 [00:38<00:00, 13.12it/s]\n"
     ]
    },
    {
     "name": "stdout",
     "output_type": "stream",
     "text": [
      "VALIDATION LOSSES ON EPOCH 12: tensor(1.6592)\n"
     ]
    },
    {
     "name": "stderr",
     "output_type": "stream",
     "text": [
      "train epoch 13: 100%|██████████| 1000/1000 [01:28<00:00, 11.33it/s]"
     ]
    },
    {
     "name": "stdout",
     "output_type": "stream",
     "text": [
      "time 88.25758862495422\n",
      "13 EPOCH TIME: 1.0 mins 28 sec\n"
     ]
    },
    {
     "name": "stderr",
     "output_type": "stream",
     "text": [
      "\n",
      "test model: 100%|██████████| 500/500 [00:38<00:00, 13.13it/s]\n"
     ]
    },
    {
     "name": "stdout",
     "output_type": "stream",
     "text": [
      "VALIDATION LOSSES ON EPOCH 13: tensor(1.6358)\n",
      "NEW BEST!\n"
     ]
    },
    {
     "name": "stderr",
     "output_type": "stream",
     "text": [
      "train epoch 14: 100%|██████████| 1000/1000 [01:29<00:00, 11.21it/s]"
     ]
    },
    {
     "name": "stdout",
     "output_type": "stream",
     "text": [
      "time 89.20387029647827\n",
      "14 EPOCH TIME: 1.0 mins 29 sec\n"
     ]
    },
    {
     "name": "stderr",
     "output_type": "stream",
     "text": [
      "\n",
      "test model: 100%|██████████| 500/500 [00:38<00:00, 13.10it/s]\n"
     ]
    },
    {
     "name": "stdout",
     "output_type": "stream",
     "text": [
      "VALIDATION LOSSES ON EPOCH 14: tensor(1.6318)\n",
      "NEW BEST!\n"
     ]
    },
    {
     "name": "stderr",
     "output_type": "stream",
     "text": [
      "train epoch 15: 100%|██████████| 1000/1000 [01:28<00:00, 11.24it/s]"
     ]
    },
    {
     "name": "stdout",
     "output_type": "stream",
     "text": [
      "time 88.96455454826355\n",
      "15 EPOCH TIME: 1.0 mins 29 sec\n"
     ]
    },
    {
     "name": "stderr",
     "output_type": "stream",
     "text": [
      "\n",
      "test model: 100%|██████████| 500/500 [00:38<00:00, 13.00it/s]\n"
     ]
    },
    {
     "name": "stdout",
     "output_type": "stream",
     "text": [
      "VALIDATION LOSSES ON EPOCH 15: tensor(1.6302)\n",
      "NEW BEST!\n"
     ]
    },
    {
     "name": "stderr",
     "output_type": "stream",
     "text": [
      "train epoch 16: 100%|██████████| 1000/1000 [01:27<00:00, 11.37it/s]"
     ]
    },
    {
     "name": "stdout",
     "output_type": "stream",
     "text": [
      "time 87.93327212333679\n",
      "16 EPOCH TIME: 1.0 mins 28 sec\n"
     ]
    },
    {
     "name": "stderr",
     "output_type": "stream",
     "text": [
      "\n",
      "test model: 100%|██████████| 500/500 [00:38<00:00, 12.94it/s]\n"
     ]
    },
    {
     "name": "stdout",
     "output_type": "stream",
     "text": [
      "VALIDATION LOSSES ON EPOCH 16: tensor(1.6521)\n"
     ]
    },
    {
     "name": "stderr",
     "output_type": "stream",
     "text": [
      "train epoch 17: 100%|██████████| 1000/1000 [01:28<00:00, 11.24it/s]"
     ]
    },
    {
     "name": "stdout",
     "output_type": "stream",
     "text": [
      "time 88.95134139060974\n",
      "17 EPOCH TIME: 1.0 mins 29 sec\n"
     ]
    },
    {
     "name": "stderr",
     "output_type": "stream",
     "text": [
      "\n",
      "test model: 100%|██████████| 500/500 [00:37<00:00, 13.16it/s]\n"
     ]
    },
    {
     "name": "stdout",
     "output_type": "stream",
     "text": [
      "VALIDATION LOSSES ON EPOCH 17: tensor(1.6096)\n",
      "NEW BEST!\n"
     ]
    },
    {
     "name": "stderr",
     "output_type": "stream",
     "text": [
      "train epoch 18: 100%|██████████| 1000/1000 [01:28<00:00, 11.35it/s]"
     ]
    },
    {
     "name": "stdout",
     "output_type": "stream",
     "text": [
      "time 88.10281133651733\n",
      "18 EPOCH TIME: 1.0 mins 28 sec\n"
     ]
    },
    {
     "name": "stderr",
     "output_type": "stream",
     "text": [
      "\n",
      "test model: 100%|██████████| 500/500 [00:38<00:00, 13.06it/s]\n"
     ]
    },
    {
     "name": "stdout",
     "output_type": "stream",
     "text": [
      "VALIDATION LOSSES ON EPOCH 18: tensor(1.6430)\n"
     ]
    },
    {
     "name": "stderr",
     "output_type": "stream",
     "text": [
      "train epoch 19: 100%|██████████| 1000/1000 [01:27<00:00, 11.41it/s]"
     ]
    },
    {
     "name": "stdout",
     "output_type": "stream",
     "text": [
      "time 87.6129560470581\n",
      "19 EPOCH TIME: 1.0 mins 28 sec\n"
     ]
    },
    {
     "name": "stderr",
     "output_type": "stream",
     "text": [
      "\n",
      "test model: 100%|██████████| 500/500 [00:38<00:00, 13.14it/s]\n"
     ]
    },
    {
     "name": "stdout",
     "output_type": "stream",
     "text": [
      "VALIDATION LOSSES ON EPOCH 19: tensor(1.6749)\n"
     ]
    },
    {
     "name": "stderr",
     "output_type": "stream",
     "text": [
      "train epoch 20: 100%|██████████| 1000/1000 [01:29<00:00, 11.18it/s]"
     ]
    },
    {
     "name": "stdout",
     "output_type": "stream",
     "text": [
      "time 89.43068218231201\n",
      "20 EPOCH TIME: 1.0 mins 29 sec\n"
     ]
    },
    {
     "name": "stderr",
     "output_type": "stream",
     "text": [
      "\n",
      "test model: 100%|██████████| 500/500 [00:37<00:00, 13.18it/s]\n"
     ]
    },
    {
     "name": "stdout",
     "output_type": "stream",
     "text": [
      "VALIDATION LOSSES ON EPOCH 20: tensor(1.5953)\n",
      "NEW BEST!\n"
     ]
    },
    {
     "name": "stderr",
     "output_type": "stream",
     "text": [
      "train epoch 21: 100%|██████████| 1000/1000 [01:29<00:00, 11.23it/s]"
     ]
    },
    {
     "name": "stdout",
     "output_type": "stream",
     "text": [
      "time 89.03438878059387\n",
      "21 EPOCH TIME: 1.0 mins 29 sec\n"
     ]
    },
    {
     "name": "stderr",
     "output_type": "stream",
     "text": [
      "\n",
      "test model: 100%|██████████| 500/500 [00:37<00:00, 13.26it/s]\n"
     ]
    },
    {
     "name": "stdout",
     "output_type": "stream",
     "text": [
      "VALIDATION LOSSES ON EPOCH 21: tensor(1.6378)\n"
     ]
    },
    {
     "name": "stderr",
     "output_type": "stream",
     "text": [
      "train epoch 22: 100%|██████████| 1000/1000 [01:28<00:00, 11.25it/s]"
     ]
    },
    {
     "name": "stdout",
     "output_type": "stream",
     "text": [
      "time 88.92414379119873\n",
      "22 EPOCH TIME: 1.0 mins 29 sec\n"
     ]
    },
    {
     "name": "stderr",
     "output_type": "stream",
     "text": [
      "\n",
      "test model: 100%|██████████| 500/500 [00:38<00:00, 13.07it/s]\n"
     ]
    },
    {
     "name": "stdout",
     "output_type": "stream",
     "text": [
      "VALIDATION LOSSES ON EPOCH 22: tensor(1.6340)\n"
     ]
    },
    {
     "name": "stderr",
     "output_type": "stream",
     "text": [
      "train epoch 23: 100%|██████████| 1000/1000 [01:27<00:00, 11.37it/s]"
     ]
    },
    {
     "name": "stdout",
     "output_type": "stream",
     "text": [
      "time 87.95444679260254\n",
      "23 EPOCH TIME: 1.0 mins 28 sec\n"
     ]
    },
    {
     "name": "stderr",
     "output_type": "stream",
     "text": [
      "\n",
      "test model: 100%|██████████| 500/500 [00:37<00:00, 13.26it/s]\n"
     ]
    },
    {
     "name": "stdout",
     "output_type": "stream",
     "text": [
      "VALIDATION LOSSES ON EPOCH 23: tensor(1.5986)\n"
     ]
    },
    {
     "name": "stderr",
     "output_type": "stream",
     "text": [
      "train epoch 24: 100%|██████████| 1000/1000 [01:27<00:00, 11.43it/s]"
     ]
    },
    {
     "name": "stdout",
     "output_type": "stream",
     "text": [
      "time 87.51912426948547\n",
      "24 EPOCH TIME: 1.0 mins 28 sec\n"
     ]
    },
    {
     "name": "stderr",
     "output_type": "stream",
     "text": [
      "\n",
      "test model: 100%|██████████| 500/500 [00:38<00:00, 13.11it/s]\n"
     ]
    },
    {
     "name": "stdout",
     "output_type": "stream",
     "text": [
      "VALIDATION LOSSES ON EPOCH 24: tensor(1.6860)\n"
     ]
    },
    {
     "name": "stderr",
     "output_type": "stream",
     "text": [
      "train epoch 25: 100%|██████████| 1000/1000 [01:26<00:00, 11.51it/s]"
     ]
    },
    {
     "name": "stdout",
     "output_type": "stream",
     "text": [
      "time 86.87647700309753\n",
      "25 EPOCH TIME: 1.0 mins 27 sec\n"
     ]
    },
    {
     "name": "stderr",
     "output_type": "stream",
     "text": [
      "\n",
      "test model: 100%|██████████| 500/500 [00:37<00:00, 13.20it/s]\n"
     ]
    },
    {
     "name": "stdout",
     "output_type": "stream",
     "text": [
      "VALIDATION LOSSES ON EPOCH 25: tensor(1.6616)\n"
     ]
    },
    {
     "name": "stderr",
     "output_type": "stream",
     "text": [
      "train epoch 26: 100%|██████████| 1000/1000 [01:27<00:00, 11.38it/s]"
     ]
    },
    {
     "name": "stdout",
     "output_type": "stream",
     "text": [
      "time 87.8572244644165\n",
      "26 EPOCH TIME: 1.0 mins 28 sec\n"
     ]
    },
    {
     "name": "stderr",
     "output_type": "stream",
     "text": [
      "\n",
      "test model: 100%|██████████| 500/500 [00:38<00:00, 13.09it/s]\n"
     ]
    },
    {
     "name": "stdout",
     "output_type": "stream",
     "text": [
      "VALIDATION LOSSES ON EPOCH 26: tensor(1.6085)\n"
     ]
    },
    {
     "name": "stderr",
     "output_type": "stream",
     "text": [
      "train epoch 27: 100%|██████████| 1000/1000 [01:27<00:00, 11.37it/s]"
     ]
    },
    {
     "name": "stdout",
     "output_type": "stream",
     "text": [
      "time 87.93760704994202\n",
      "27 EPOCH TIME: 1.0 mins 28 sec\n"
     ]
    },
    {
     "name": "stderr",
     "output_type": "stream",
     "text": [
      "\n",
      "test model: 100%|██████████| 500/500 [00:37<00:00, 13.20it/s]\n"
     ]
    },
    {
     "name": "stdout",
     "output_type": "stream",
     "text": [
      "VALIDATION LOSSES ON EPOCH 27: tensor(1.6655)\n"
     ]
    },
    {
     "name": "stderr",
     "output_type": "stream",
     "text": [
      "train epoch 28: 100%|██████████| 1000/1000 [01:29<00:00, 11.17it/s]"
     ]
    },
    {
     "name": "stdout",
     "output_type": "stream",
     "text": [
      "time 89.52911925315857\n",
      "28 EPOCH TIME: 1.0 mins 30 sec\n"
     ]
    },
    {
     "name": "stderr",
     "output_type": "stream",
     "text": [
      "\n",
      "test model: 100%|██████████| 500/500 [00:38<00:00, 13.02it/s]\n"
     ]
    },
    {
     "name": "stdout",
     "output_type": "stream",
     "text": [
      "VALIDATION LOSSES ON EPOCH 28: tensor(1.6010)\n"
     ]
    },
    {
     "name": "stderr",
     "output_type": "stream",
     "text": [
      "train epoch 29: 100%|██████████| 1000/1000 [01:28<00:00, 11.27it/s]"
     ]
    },
    {
     "name": "stdout",
     "output_type": "stream",
     "text": [
      "time 88.71068668365479\n",
      "29 EPOCH TIME: 1.0 mins 29 sec\n"
     ]
    },
    {
     "name": "stderr",
     "output_type": "stream",
     "text": [
      "\n",
      "test model: 100%|██████████| 500/500 [00:38<00:00, 13.04it/s]\n"
     ]
    },
    {
     "name": "stdout",
     "output_type": "stream",
     "text": [
      "VALIDATION LOSSES ON EPOCH 29: tensor(1.6680)\n"
     ]
    },
    {
     "name": "stderr",
     "output_type": "stream",
     "text": [
      "train epoch 30: 100%|██████████| 1000/1000 [01:29<00:00, 11.16it/s]"
     ]
    },
    {
     "name": "stdout",
     "output_type": "stream",
     "text": [
      "time 89.63438415527344\n",
      "30 EPOCH TIME: 1.0 mins 30 sec\n"
     ]
    },
    {
     "name": "stderr",
     "output_type": "stream",
     "text": [
      "\n",
      "test model: 100%|██████████| 500/500 [00:37<00:00, 13.17it/s]\n"
     ]
    },
    {
     "name": "stdout",
     "output_type": "stream",
     "text": [
      "VALIDATION LOSSES ON EPOCH 30: tensor(1.5836)\n",
      "NEW BEST!\n"
     ]
    },
    {
     "name": "stderr",
     "output_type": "stream",
     "text": [
      "train epoch 31: 100%|██████████| 1000/1000 [01:29<00:00, 11.23it/s]"
     ]
    },
    {
     "name": "stdout",
     "output_type": "stream",
     "text": [
      "time 89.05817651748657\n",
      "31 EPOCH TIME: 1.0 mins 29 sec\n"
     ]
    },
    {
     "name": "stderr",
     "output_type": "stream",
     "text": [
      "\n",
      "test model: 100%|██████████| 500/500 [00:37<00:00, 13.19it/s]\n"
     ]
    },
    {
     "name": "stdout",
     "output_type": "stream",
     "text": [
      "VALIDATION LOSSES ON EPOCH 31: tensor(1.6427)\n"
     ]
    },
    {
     "name": "stderr",
     "output_type": "stream",
     "text": [
      "train epoch 32: 100%|██████████| 1000/1000 [01:28<00:00, 11.26it/s]"
     ]
    },
    {
     "name": "stdout",
     "output_type": "stream",
     "text": [
      "time 88.78243112564087\n",
      "32 EPOCH TIME: 1.0 mins 29 sec\n"
     ]
    },
    {
     "name": "stderr",
     "output_type": "stream",
     "text": [
      "\n",
      "test model: 100%|██████████| 500/500 [00:37<00:00, 13.23it/s]\n"
     ]
    },
    {
     "name": "stdout",
     "output_type": "stream",
     "text": [
      "VALIDATION LOSSES ON EPOCH 32: tensor(1.6265)\n"
     ]
    },
    {
     "name": "stderr",
     "output_type": "stream",
     "text": [
      "train epoch 33: 100%|██████████| 1000/1000 [01:28<00:00, 11.36it/s]"
     ]
    },
    {
     "name": "stdout",
     "output_type": "stream",
     "text": [
      "time 88.05096554756165\n",
      "33 EPOCH TIME: 1.0 mins 28 sec\n"
     ]
    },
    {
     "name": "stderr",
     "output_type": "stream",
     "text": [
      "\n",
      "test model: 100%|██████████| 500/500 [00:37<00:00, 13.20it/s]\n"
     ]
    },
    {
     "name": "stdout",
     "output_type": "stream",
     "text": [
      "VALIDATION LOSSES ON EPOCH 33: tensor(1.5984)\n"
     ]
    },
    {
     "name": "stderr",
     "output_type": "stream",
     "text": [
      "train epoch 34: 100%|██████████| 1000/1000 [01:28<00:00, 11.32it/s]"
     ]
    },
    {
     "name": "stdout",
     "output_type": "stream",
     "text": [
      "time 88.36495161056519\n",
      "34 EPOCH TIME: 1.0 mins 28 sec\n"
     ]
    },
    {
     "name": "stderr",
     "output_type": "stream",
     "text": [
      "\n",
      "test model: 100%|██████████| 500/500 [00:37<00:00, 13.21it/s]\n"
     ]
    },
    {
     "name": "stdout",
     "output_type": "stream",
     "text": [
      "VALIDATION LOSSES ON EPOCH 34: tensor(1.6454)\n"
     ]
    },
    {
     "name": "stderr",
     "output_type": "stream",
     "text": [
      "train epoch 35: 100%|██████████| 1000/1000 [01:27<00:00, 11.41it/s]"
     ]
    },
    {
     "name": "stdout",
     "output_type": "stream",
     "text": [
      "time 87.63461899757385\n",
      "35 EPOCH TIME: 1.0 mins 28 sec\n"
     ]
    },
    {
     "name": "stderr",
     "output_type": "stream",
     "text": [
      "\n",
      "test model: 100%|██████████| 500/500 [00:38<00:00, 13.14it/s]\n"
     ]
    },
    {
     "name": "stdout",
     "output_type": "stream",
     "text": [
      "VALIDATION LOSSES ON EPOCH 35: tensor(1.6404)\n"
     ]
    },
    {
     "name": "stderr",
     "output_type": "stream",
     "text": [
      "train epoch 36: 100%|██████████| 1000/1000 [01:29<00:00, 11.20it/s]"
     ]
    },
    {
     "name": "stdout",
     "output_type": "stream",
     "text": [
      "time 89.24928283691406\n",
      "36 EPOCH TIME: 1.0 mins 29 sec\n"
     ]
    },
    {
     "name": "stderr",
     "output_type": "stream",
     "text": [
      "\n",
      "test model: 100%|██████████| 500/500 [00:38<00:00, 13.03it/s]\n"
     ]
    },
    {
     "name": "stdout",
     "output_type": "stream",
     "text": [
      "VALIDATION LOSSES ON EPOCH 36: tensor(1.6081)\n"
     ]
    },
    {
     "name": "stderr",
     "output_type": "stream",
     "text": [
      "train epoch 37: 100%|██████████| 1000/1000 [01:28<00:00, 11.29it/s]"
     ]
    },
    {
     "name": "stdout",
     "output_type": "stream",
     "text": [
      "time 88.58685326576233\n",
      "37 EPOCH TIME: 1.0 mins 29 sec\n"
     ]
    },
    {
     "name": "stderr",
     "output_type": "stream",
     "text": [
      "\n",
      "test model: 100%|██████████| 500/500 [00:38<00:00, 13.08it/s]\n"
     ]
    },
    {
     "name": "stdout",
     "output_type": "stream",
     "text": [
      "VALIDATION LOSSES ON EPOCH 37: tensor(1.6178)\n"
     ]
    },
    {
     "name": "stderr",
     "output_type": "stream",
     "text": [
      "train epoch 38: 100%|██████████| 1000/1000 [01:28<00:00, 11.28it/s]"
     ]
    },
    {
     "name": "stdout",
     "output_type": "stream",
     "text": [
      "time 88.677499294281\n",
      "38 EPOCH TIME: 1.0 mins 29 sec\n"
     ]
    },
    {
     "name": "stderr",
     "output_type": "stream",
     "text": [
      "\n",
      "test model: 100%|██████████| 500/500 [00:37<00:00, 13.20it/s]\n"
     ]
    },
    {
     "name": "stdout",
     "output_type": "stream",
     "text": [
      "VALIDATION LOSSES ON EPOCH 38: tensor(1.6021)\n"
     ]
    },
    {
     "name": "stderr",
     "output_type": "stream",
     "text": [
      "train epoch 39: 100%|██████████| 1000/1000 [01:27<00:00, 11.40it/s]"
     ]
    },
    {
     "name": "stdout",
     "output_type": "stream",
     "text": [
      "time 87.74425721168518\n",
      "39 EPOCH TIME: 1.0 mins 28 sec\n"
     ]
    },
    {
     "name": "stderr",
     "output_type": "stream",
     "text": [
      "\n",
      "test model: 100%|██████████| 500/500 [00:38<00:00, 13.04it/s]\n"
     ]
    },
    {
     "name": "stdout",
     "output_type": "stream",
     "text": [
      "VALIDATION LOSSES ON EPOCH 39: tensor(1.5511)\n",
      "NEW BEST!\n"
     ]
    },
    {
     "name": "stderr",
     "output_type": "stream",
     "text": [
      "train epoch 40: 100%|██████████| 1000/1000 [01:28<00:00, 11.33it/s]"
     ]
    },
    {
     "name": "stdout",
     "output_type": "stream",
     "text": [
      "time 88.25673961639404\n",
      "40 EPOCH TIME: 1.0 mins 28 sec\n"
     ]
    },
    {
     "name": "stderr",
     "output_type": "stream",
     "text": [
      "\n",
      "test model: 100%|██████████| 500/500 [00:38<00:00, 13.11it/s]\n"
     ]
    },
    {
     "name": "stdout",
     "output_type": "stream",
     "text": [
      "VALIDATION LOSSES ON EPOCH 40: tensor(1.6133)\n"
     ]
    },
    {
     "name": "stderr",
     "output_type": "stream",
     "text": [
      "train epoch 41: 100%|██████████| 1000/1000 [01:28<00:00, 11.25it/s]"
     ]
    },
    {
     "name": "stdout",
     "output_type": "stream",
     "text": [
      "time 88.89259624481201\n",
      "41 EPOCH TIME: 1.0 mins 29 sec\n"
     ]
    },
    {
     "name": "stderr",
     "output_type": "stream",
     "text": [
      "\n",
      "test model: 100%|██████████| 500/500 [00:38<00:00, 13.03it/s]\n"
     ]
    },
    {
     "name": "stdout",
     "output_type": "stream",
     "text": [
      "VALIDATION LOSSES ON EPOCH 41: tensor(1.7461)\n"
     ]
    },
    {
     "name": "stderr",
     "output_type": "stream",
     "text": [
      "train epoch 42: 100%|██████████| 1000/1000 [01:28<00:00, 11.30it/s]"
     ]
    },
    {
     "name": "stdout",
     "output_type": "stream",
     "text": [
      "time 88.46666049957275\n",
      "42 EPOCH TIME: 1.0 mins 28 sec\n"
     ]
    },
    {
     "name": "stderr",
     "output_type": "stream",
     "text": [
      "\n",
      "test model: 100%|██████████| 500/500 [00:38<00:00, 13.07it/s]\n"
     ]
    },
    {
     "name": "stdout",
     "output_type": "stream",
     "text": [
      "VALIDATION LOSSES ON EPOCH 42: tensor(1.5812)\n"
     ]
    },
    {
     "name": "stderr",
     "output_type": "stream",
     "text": [
      "train epoch 43: 100%|██████████| 1000/1000 [01:29<00:00, 11.12it/s]"
     ]
    },
    {
     "name": "stdout",
     "output_type": "stream",
     "text": [
      "time 89.96091890335083\n",
      "43 EPOCH TIME: 1.0 mins 30 sec\n"
     ]
    },
    {
     "name": "stderr",
     "output_type": "stream",
     "text": [
      "\n",
      "test model: 100%|██████████| 500/500 [00:38<00:00, 13.09it/s]\n"
     ]
    },
    {
     "name": "stdout",
     "output_type": "stream",
     "text": [
      "VALIDATION LOSSES ON EPOCH 43: tensor(1.6336)\n"
     ]
    },
    {
     "name": "stderr",
     "output_type": "stream",
     "text": [
      "train epoch 44: 100%|██████████| 1000/1000 [01:28<00:00, 11.31it/s]"
     ]
    },
    {
     "name": "stdout",
     "output_type": "stream",
     "text": [
      "time 88.44151449203491\n",
      "44 EPOCH TIME: 1.0 mins 28 sec\n"
     ]
    },
    {
     "name": "stderr",
     "output_type": "stream",
     "text": [
      "\n",
      "test model: 100%|██████████| 500/500 [00:38<00:00, 13.14it/s]\n"
     ]
    },
    {
     "name": "stdout",
     "output_type": "stream",
     "text": [
      "VALIDATION LOSSES ON EPOCH 44: tensor(1.5992)\n"
     ]
    },
    {
     "name": "stderr",
     "output_type": "stream",
     "text": [
      "train epoch 45: 100%|██████████| 1000/1000 [01:28<00:00, 11.32it/s]"
     ]
    },
    {
     "name": "stdout",
     "output_type": "stream",
     "text": [
      "time 88.35083842277527\n",
      "45 EPOCH TIME: 1.0 mins 28 sec\n"
     ]
    },
    {
     "name": "stderr",
     "output_type": "stream",
     "text": [
      "\n",
      "test model: 100%|██████████| 500/500 [00:38<00:00, 13.00it/s]\n"
     ]
    },
    {
     "name": "stdout",
     "output_type": "stream",
     "text": [
      "VALIDATION LOSSES ON EPOCH 45: tensor(1.5405)\n",
      "NEW BEST!\n"
     ]
    },
    {
     "name": "stderr",
     "output_type": "stream",
     "text": [
      "train epoch 46: 100%|██████████| 1000/1000 [01:29<00:00, 11.23it/s]"
     ]
    },
    {
     "name": "stdout",
     "output_type": "stream",
     "text": [
      "time 89.03488302230835\n",
      "46 EPOCH TIME: 1.0 mins 29 sec\n"
     ]
    },
    {
     "name": "stderr",
     "output_type": "stream",
     "text": [
      "\n",
      "test model: 100%|██████████| 500/500 [00:38<00:00, 13.05it/s]\n"
     ]
    },
    {
     "name": "stdout",
     "output_type": "stream",
     "text": [
      "VALIDATION LOSSES ON EPOCH 46: tensor(1.6218)\n"
     ]
    },
    {
     "name": "stderr",
     "output_type": "stream",
     "text": [
      "train epoch 47: 100%|██████████| 1000/1000 [01:28<00:00, 11.27it/s]"
     ]
    },
    {
     "name": "stdout",
     "output_type": "stream",
     "text": [
      "time 88.73652839660645\n",
      "47 EPOCH TIME: 1.0 mins 29 sec\n"
     ]
    },
    {
     "name": "stderr",
     "output_type": "stream",
     "text": [
      "\n",
      "test model: 100%|██████████| 500/500 [00:37<00:00, 13.28it/s]\n"
     ]
    },
    {
     "name": "stdout",
     "output_type": "stream",
     "text": [
      "VALIDATION LOSSES ON EPOCH 47: tensor(1.5888)\n"
     ]
    },
    {
     "name": "stderr",
     "output_type": "stream",
     "text": [
      "train epoch 48: 100%|██████████| 1000/1000 [01:28<00:00, 11.32it/s]"
     ]
    },
    {
     "name": "stdout",
     "output_type": "stream",
     "text": [
      "time 88.34024572372437\n",
      "48 EPOCH TIME: 1.0 mins 28 sec\n"
     ]
    },
    {
     "name": "stderr",
     "output_type": "stream",
     "text": [
      "\n",
      "test model: 100%|██████████| 500/500 [00:38<00:00, 13.08it/s]\n"
     ]
    },
    {
     "name": "stdout",
     "output_type": "stream",
     "text": [
      "VALIDATION LOSSES ON EPOCH 48: tensor(1.6572)\n"
     ]
    },
    {
     "name": "stderr",
     "output_type": "stream",
     "text": [
      "train epoch 49: 100%|██████████| 1000/1000 [01:28<00:00, 11.30it/s]"
     ]
    },
    {
     "name": "stdout",
     "output_type": "stream",
     "text": [
      "time 88.50137162208557\n",
      "49 EPOCH TIME: 1.0 mins 29 sec\n"
     ]
    },
    {
     "name": "stderr",
     "output_type": "stream",
     "text": [
      "\n",
      "test model: 100%|██████████| 500/500 [00:37<00:00, 13.30it/s]\n"
     ]
    },
    {
     "name": "stdout",
     "output_type": "stream",
     "text": [
      "VALIDATION LOSSES ON EPOCH 49: tensor(1.6202)\n"
     ]
    },
    {
     "name": "stderr",
     "output_type": "stream",
     "text": [
      "train epoch 50: 100%|██████████| 1000/1000 [01:28<00:00, 11.36it/s]"
     ]
    },
    {
     "name": "stdout",
     "output_type": "stream",
     "text": [
      "time 88.03508162498474\n",
      "50 EPOCH TIME: 1.0 mins 28 sec\n"
     ]
    },
    {
     "name": "stderr",
     "output_type": "stream",
     "text": [
      "\n",
      "test model: 100%|██████████| 500/500 [00:37<00:00, 13.19it/s]\n"
     ]
    },
    {
     "name": "stdout",
     "output_type": "stream",
     "text": [
      "VALIDATION LOSSES ON EPOCH 50: tensor(1.6325)\n"
     ]
    },
    {
     "name": "stderr",
     "output_type": "stream",
     "text": [
      "train epoch 51: 100%|██████████| 1000/1000 [01:29<00:00, 11.20it/s]"
     ]
    },
    {
     "name": "stdout",
     "output_type": "stream",
     "text": [
      "time 89.311203956604\n",
      "51 EPOCH TIME: 1.0 mins 29 sec\n"
     ]
    },
    {
     "name": "stderr",
     "output_type": "stream",
     "text": [
      "\n",
      "test model: 100%|██████████| 500/500 [00:38<00:00, 13.14it/s]\n"
     ]
    },
    {
     "name": "stdout",
     "output_type": "stream",
     "text": [
      "VALIDATION LOSSES ON EPOCH 51: tensor(1.5587)\n"
     ]
    },
    {
     "name": "stderr",
     "output_type": "stream",
     "text": [
      "train epoch 52: 100%|██████████| 1000/1000 [01:28<00:00, 11.29it/s]"
     ]
    },
    {
     "name": "stdout",
     "output_type": "stream",
     "text": [
      "time 88.56761002540588\n",
      "52 EPOCH TIME: 1.0 mins 29 sec\n"
     ]
    },
    {
     "name": "stderr",
     "output_type": "stream",
     "text": [
      "\n",
      "test model: 100%|██████████| 500/500 [00:38<00:00, 13.13it/s]\n"
     ]
    },
    {
     "name": "stdout",
     "output_type": "stream",
     "text": [
      "VALIDATION LOSSES ON EPOCH 52: tensor(1.5958)\n"
     ]
    },
    {
     "name": "stderr",
     "output_type": "stream",
     "text": [
      "train epoch 53: 100%|██████████| 1000/1000 [01:28<00:00, 11.25it/s]"
     ]
    },
    {
     "name": "stdout",
     "output_type": "stream",
     "text": [
      "time 88.886892080307\n",
      "53 EPOCH TIME: 1.0 mins 29 sec\n"
     ]
    },
    {
     "name": "stderr",
     "output_type": "stream",
     "text": [
      "\n",
      "test model: 100%|██████████| 500/500 [00:37<00:00, 13.16it/s]\n"
     ]
    },
    {
     "name": "stdout",
     "output_type": "stream",
     "text": [
      "VALIDATION LOSSES ON EPOCH 53: tensor(1.6008)\n"
     ]
    },
    {
     "name": "stderr",
     "output_type": "stream",
     "text": [
      "train epoch 54: 100%|██████████| 1000/1000 [01:28<00:00, 11.31it/s]"
     ]
    },
    {
     "name": "stdout",
     "output_type": "stream",
     "text": [
      "time 88.45154190063477\n",
      "54 EPOCH TIME: 1.0 mins 28 sec\n"
     ]
    },
    {
     "name": "stderr",
     "output_type": "stream",
     "text": [
      "\n",
      "test model: 100%|██████████| 500/500 [00:38<00:00, 13.11it/s]\n"
     ]
    },
    {
     "name": "stdout",
     "output_type": "stream",
     "text": [
      "VALIDATION LOSSES ON EPOCH 54: tensor(1.5374)\n",
      "NEW BEST!\n"
     ]
    },
    {
     "name": "stderr",
     "output_type": "stream",
     "text": [
      "train epoch 55: 100%|██████████| 1000/1000 [01:27<00:00, 11.43it/s]"
     ]
    },
    {
     "name": "stdout",
     "output_type": "stream",
     "text": [
      "time 87.45614361763\n",
      "55 EPOCH TIME: 1.0 mins 27 sec\n"
     ]
    },
    {
     "name": "stderr",
     "output_type": "stream",
     "text": [
      "\n",
      "test model: 100%|██████████| 500/500 [00:37<00:00, 13.22it/s]\n"
     ]
    },
    {
     "name": "stdout",
     "output_type": "stream",
     "text": [
      "VALIDATION LOSSES ON EPOCH 55: tensor(1.5840)\n"
     ]
    },
    {
     "name": "stderr",
     "output_type": "stream",
     "text": [
      "train epoch 56: 100%|██████████| 1000/1000 [01:27<00:00, 11.46it/s]"
     ]
    },
    {
     "name": "stdout",
     "output_type": "stream",
     "text": [
      "time 87.2812876701355\n",
      "56 EPOCH TIME: 1.0 mins 27 sec\n"
     ]
    },
    {
     "name": "stderr",
     "output_type": "stream",
     "text": [
      "\n",
      "test model: 100%|██████████| 500/500 [00:37<00:00, 13.21it/s]\n"
     ]
    },
    {
     "name": "stdout",
     "output_type": "stream",
     "text": [
      "VALIDATION LOSSES ON EPOCH 56: tensor(1.7239)\n"
     ]
    },
    {
     "name": "stderr",
     "output_type": "stream",
     "text": [
      "train epoch 57: 100%|██████████| 1000/1000 [01:26<00:00, 11.50it/s]"
     ]
    },
    {
     "name": "stdout",
     "output_type": "stream",
     "text": [
      "time 86.97254347801208\n",
      "57 EPOCH TIME: 1.0 mins 27 sec\n"
     ]
    },
    {
     "name": "stderr",
     "output_type": "stream",
     "text": [
      "\n",
      "test model: 100%|██████████| 500/500 [00:38<00:00, 13.07it/s]\n"
     ]
    },
    {
     "name": "stdout",
     "output_type": "stream",
     "text": [
      "VALIDATION LOSSES ON EPOCH 57: tensor(1.6415)\n"
     ]
    },
    {
     "name": "stderr",
     "output_type": "stream",
     "text": [
      "train epoch 58: 100%|██████████| 1000/1000 [01:28<00:00, 11.36it/s]"
     ]
    },
    {
     "name": "stdout",
     "output_type": "stream",
     "text": [
      "time 88.00379872322083\n",
      "58 EPOCH TIME: 1.0 mins 28 sec\n"
     ]
    },
    {
     "name": "stderr",
     "output_type": "stream",
     "text": [
      "\n",
      "test model: 100%|██████████| 500/500 [00:38<00:00, 13.08it/s]\n"
     ]
    },
    {
     "name": "stdout",
     "output_type": "stream",
     "text": [
      "VALIDATION LOSSES ON EPOCH 58: tensor(1.6349)\n"
     ]
    },
    {
     "name": "stderr",
     "output_type": "stream",
     "text": [
      "train epoch 59: 100%|██████████| 1000/1000 [01:28<00:00, 11.28it/s]"
     ]
    },
    {
     "name": "stdout",
     "output_type": "stream",
     "text": [
      "time 88.62083554267883\n",
      "59 EPOCH TIME: 1.0 mins 29 sec\n"
     ]
    },
    {
     "name": "stderr",
     "output_type": "stream",
     "text": [
      "\n",
      "test model: 100%|██████████| 500/500 [00:38<00:00, 13.03it/s]\n"
     ]
    },
    {
     "name": "stdout",
     "output_type": "stream",
     "text": [
      "VALIDATION LOSSES ON EPOCH 59: tensor(1.6045)\n"
     ]
    },
    {
     "name": "stderr",
     "output_type": "stream",
     "text": [
      "train epoch 60: 100%|██████████| 1000/1000 [01:28<00:00, 11.31it/s]"
     ]
    },
    {
     "name": "stdout",
     "output_type": "stream",
     "text": [
      "time 88.44020652770996\n",
      "60 EPOCH TIME: 1.0 mins 28 sec\n"
     ]
    },
    {
     "name": "stderr",
     "output_type": "stream",
     "text": [
      "\n",
      "test model: 100%|██████████| 500/500 [00:37<00:00, 13.16it/s]\n"
     ]
    },
    {
     "name": "stdout",
     "output_type": "stream",
     "text": [
      "VALIDATION LOSSES ON EPOCH 60: tensor(1.5973)\n"
     ]
    },
    {
     "name": "stderr",
     "output_type": "stream",
     "text": [
      "train epoch 61: 100%|██████████| 1000/1000 [01:29<00:00, 11.17it/s]"
     ]
    },
    {
     "name": "stdout",
     "output_type": "stream",
     "text": [
      "time 89.50099539756775\n",
      "61 EPOCH TIME: 1.0 mins 30 sec\n"
     ]
    },
    {
     "name": "stderr",
     "output_type": "stream",
     "text": [
      "\n",
      "test model: 100%|██████████| 500/500 [00:37<00:00, 13.37it/s]\n"
     ]
    },
    {
     "name": "stdout",
     "output_type": "stream",
     "text": [
      "VALIDATION LOSSES ON EPOCH 61: tensor(1.6288)\n"
     ]
    },
    {
     "name": "stderr",
     "output_type": "stream",
     "text": [
      "train epoch 62: 100%|██████████| 1000/1000 [01:27<00:00, 11.43it/s]"
     ]
    },
    {
     "name": "stdout",
     "output_type": "stream",
     "text": [
      "time 87.4707682132721\n",
      "62 EPOCH TIME: 1.0 mins 27 sec\n"
     ]
    },
    {
     "name": "stderr",
     "output_type": "stream",
     "text": [
      "\n",
      "test model: 100%|██████████| 500/500 [00:38<00:00, 13.12it/s]\n"
     ]
    },
    {
     "name": "stdout",
     "output_type": "stream",
     "text": [
      "VALIDATION LOSSES ON EPOCH 62: tensor(1.7397)\n"
     ]
    },
    {
     "name": "stderr",
     "output_type": "stream",
     "text": [
      "train epoch 63: 100%|██████████| 1000/1000 [01:28<00:00, 11.26it/s]\n"
     ]
    },
    {
     "name": "stdout",
     "output_type": "stream",
     "text": [
      "time 88.84572458267212\n",
      "63 EPOCH TIME: 1.0 mins 29 sec\n"
     ]
    },
    {
     "name": "stderr",
     "output_type": "stream",
     "text": [
      "test model: 100%|██████████| 500/500 [00:38<00:00, 13.01it/s]\n"
     ]
    },
    {
     "name": "stdout",
     "output_type": "stream",
     "text": [
      "VALIDATION LOSSES ON EPOCH 63: tensor(1.5067)\n",
      "NEW BEST!\n"
     ]
    },
    {
     "name": "stderr",
     "output_type": "stream",
     "text": [
      "train epoch 64: 100%|██████████| 1000/1000 [01:28<00:00, 11.31it/s]"
     ]
    },
    {
     "name": "stdout",
     "output_type": "stream",
     "text": [
      "time 88.41152262687683\n",
      "64 EPOCH TIME: 1.0 mins 28 sec\n"
     ]
    },
    {
     "name": "stderr",
     "output_type": "stream",
     "text": [
      "\n",
      "test model: 100%|██████████| 500/500 [00:38<00:00, 13.08it/s]\n"
     ]
    },
    {
     "name": "stdout",
     "output_type": "stream",
     "text": [
      "VALIDATION LOSSES ON EPOCH 64: tensor(1.6999)\n"
     ]
    },
    {
     "name": "stderr",
     "output_type": "stream",
     "text": [
      "train epoch 65: 100%|██████████| 1000/1000 [01:27<00:00, 11.46it/s]"
     ]
    },
    {
     "name": "stdout",
     "output_type": "stream",
     "text": [
      "time 87.26252031326294\n",
      "65 EPOCH TIME: 1.0 mins 27 sec\n"
     ]
    },
    {
     "name": "stderr",
     "output_type": "stream",
     "text": [
      "\n",
      "test model: 100%|██████████| 500/500 [00:38<00:00, 13.08it/s]\n"
     ]
    },
    {
     "name": "stdout",
     "output_type": "stream",
     "text": [
      "VALIDATION LOSSES ON EPOCH 65: tensor(1.5782)\n"
     ]
    },
    {
     "name": "stderr",
     "output_type": "stream",
     "text": [
      "train epoch 66: 100%|██████████| 1000/1000 [01:27<00:00, 11.41it/s]"
     ]
    },
    {
     "name": "stdout",
     "output_type": "stream",
     "text": [
      "time 87.60568499565125\n",
      "66 EPOCH TIME: 1.0 mins 28 sec\n"
     ]
    },
    {
     "name": "stderr",
     "output_type": "stream",
     "text": [
      "\n",
      "test model: 100%|██████████| 500/500 [00:38<00:00, 13.05it/s]\n"
     ]
    },
    {
     "name": "stdout",
     "output_type": "stream",
     "text": [
      "VALIDATION LOSSES ON EPOCH 66: tensor(1.5225)\n"
     ]
    },
    {
     "name": "stderr",
     "output_type": "stream",
     "text": [
      "train epoch 67: 100%|██████████| 1000/1000 [01:28<00:00, 11.24it/s]"
     ]
    },
    {
     "name": "stdout",
     "output_type": "stream",
     "text": [
      "time 88.96908283233643\n",
      "67 EPOCH TIME: 1.0 mins 29 sec\n"
     ]
    },
    {
     "name": "stderr",
     "output_type": "stream",
     "text": [
      "\n",
      "test model: 100%|██████████| 500/500 [00:38<00:00, 13.10it/s]\n"
     ]
    },
    {
     "name": "stdout",
     "output_type": "stream",
     "text": [
      "VALIDATION LOSSES ON EPOCH 67: tensor(1.5738)\n"
     ]
    },
    {
     "name": "stderr",
     "output_type": "stream",
     "text": [
      "train epoch 68: 100%|██████████| 1000/1000 [01:27<00:00, 11.37it/s]"
     ]
    },
    {
     "name": "stdout",
     "output_type": "stream",
     "text": [
      "time 87.9635124206543\n",
      "68 EPOCH TIME: 1.0 mins 28 sec\n"
     ]
    },
    {
     "name": "stderr",
     "output_type": "stream",
     "text": [
      "\n",
      "test model: 100%|██████████| 500/500 [00:38<00:00, 13.12it/s]\n"
     ]
    },
    {
     "name": "stdout",
     "output_type": "stream",
     "text": [
      "VALIDATION LOSSES ON EPOCH 68: tensor(1.5168)\n"
     ]
    },
    {
     "name": "stderr",
     "output_type": "stream",
     "text": [
      "train epoch 69: 100%|██████████| 1000/1000 [01:28<00:00, 11.35it/s]"
     ]
    },
    {
     "name": "stdout",
     "output_type": "stream",
     "text": [
      "time 88.08347821235657\n",
      "69 EPOCH TIME: 1.0 mins 28 sec\n"
     ]
    },
    {
     "name": "stderr",
     "output_type": "stream",
     "text": [
      "\n",
      "test model: 100%|██████████| 500/500 [00:37<00:00, 13.20it/s]\n"
     ]
    },
    {
     "name": "stdout",
     "output_type": "stream",
     "text": [
      "VALIDATION LOSSES ON EPOCH 69: tensor(1.5746)\n"
     ]
    },
    {
     "name": "stderr",
     "output_type": "stream",
     "text": [
      "train epoch 70: 100%|██████████| 1000/1000 [01:27<00:00, 11.43it/s]"
     ]
    },
    {
     "name": "stdout",
     "output_type": "stream",
     "text": [
      "time 87.45948719978333\n",
      "70 EPOCH TIME: 1.0 mins 27 sec\n"
     ]
    },
    {
     "name": "stderr",
     "output_type": "stream",
     "text": [
      "\n",
      "test model: 100%|██████████| 500/500 [00:37<00:00, 13.16it/s]\n"
     ]
    },
    {
     "name": "stdout",
     "output_type": "stream",
     "text": [
      "VALIDATION LOSSES ON EPOCH 70: tensor(1.5771)\n"
     ]
    },
    {
     "name": "stderr",
     "output_type": "stream",
     "text": [
      "train epoch 71: 100%|██████████| 1000/1000 [01:27<00:00, 11.45it/s]"
     ]
    },
    {
     "name": "stdout",
     "output_type": "stream",
     "text": [
      "time 87.3461503982544\n",
      "71 EPOCH TIME: 1.0 mins 27 sec\n"
     ]
    },
    {
     "name": "stderr",
     "output_type": "stream",
     "text": [
      "\n",
      "test model: 100%|██████████| 500/500 [00:37<00:00, 13.33it/s]\n"
     ]
    },
    {
     "name": "stdout",
     "output_type": "stream",
     "text": [
      "VALIDATION LOSSES ON EPOCH 71: tensor(1.5586)\n"
     ]
    },
    {
     "name": "stderr",
     "output_type": "stream",
     "text": [
      "train epoch 72: 100%|██████████| 1000/1000 [01:29<00:00, 11.23it/s]"
     ]
    },
    {
     "name": "stdout",
     "output_type": "stream",
     "text": [
      "time 89.05518341064453\n",
      "72 EPOCH TIME: 1.0 mins 29 sec\n"
     ]
    },
    {
     "name": "stderr",
     "output_type": "stream",
     "text": [
      "\n",
      "test model: 100%|██████████| 500/500 [00:37<00:00, 13.26it/s]\n"
     ]
    },
    {
     "name": "stdout",
     "output_type": "stream",
     "text": [
      "VALIDATION LOSSES ON EPOCH 72: tensor(1.5248)\n"
     ]
    },
    {
     "name": "stderr",
     "output_type": "stream",
     "text": [
      "train epoch 73: 100%|██████████| 1000/1000 [01:29<00:00, 11.15it/s]"
     ]
    },
    {
     "name": "stdout",
     "output_type": "stream",
     "text": [
      "time 89.65532541275024\n",
      "73 EPOCH TIME: 1.0 mins 30 sec\n"
     ]
    },
    {
     "name": "stderr",
     "output_type": "stream",
     "text": [
      "\n",
      "test model: 100%|██████████| 500/500 [00:38<00:00, 13.12it/s]\n"
     ]
    },
    {
     "name": "stdout",
     "output_type": "stream",
     "text": [
      "VALIDATION LOSSES ON EPOCH 73: tensor(1.6105)\n"
     ]
    },
    {
     "name": "stderr",
     "output_type": "stream",
     "text": [
      "train epoch 74: 100%|██████████| 1000/1000 [01:29<00:00, 11.20it/s]"
     ]
    },
    {
     "name": "stdout",
     "output_type": "stream",
     "text": [
      "time 89.28443956375122\n",
      "74 EPOCH TIME: 1.0 mins 29 sec\n"
     ]
    },
    {
     "name": "stderr",
     "output_type": "stream",
     "text": [
      "\n",
      "test model: 100%|██████████| 500/500 [00:38<00:00, 13.14it/s]\n"
     ]
    },
    {
     "name": "stdout",
     "output_type": "stream",
     "text": [
      "VALIDATION LOSSES ON EPOCH 74: tensor(1.5817)\n"
     ]
    },
    {
     "name": "stderr",
     "output_type": "stream",
     "text": [
      "train epoch 75: 100%|██████████| 1000/1000 [01:27<00:00, 11.37it/s]"
     ]
    },
    {
     "name": "stdout",
     "output_type": "stream",
     "text": [
      "time 87.98590445518494\n",
      "75 EPOCH TIME: 1.0 mins 28 sec\n"
     ]
    },
    {
     "name": "stderr",
     "output_type": "stream",
     "text": [
      "\n",
      "test model: 100%|██████████| 500/500 [00:38<00:00, 12.95it/s]\n"
     ]
    },
    {
     "name": "stdout",
     "output_type": "stream",
     "text": [
      "VALIDATION LOSSES ON EPOCH 75: tensor(1.5366)\n"
     ]
    },
    {
     "name": "stderr",
     "output_type": "stream",
     "text": [
      "train epoch 76: 100%|██████████| 1000/1000 [01:27<00:00, 11.41it/s]"
     ]
    },
    {
     "name": "stdout",
     "output_type": "stream",
     "text": [
      "time 87.6802544593811\n",
      "76 EPOCH TIME: 1.0 mins 28 sec\n"
     ]
    },
    {
     "name": "stderr",
     "output_type": "stream",
     "text": [
      "\n",
      "test model: 100%|██████████| 500/500 [00:37<00:00, 13.22it/s]\n"
     ]
    },
    {
     "name": "stdout",
     "output_type": "stream",
     "text": [
      "VALIDATION LOSSES ON EPOCH 76: tensor(1.5690)\n"
     ]
    },
    {
     "name": "stderr",
     "output_type": "stream",
     "text": [
      "train epoch 77: 100%|██████████| 1000/1000 [01:27<00:00, 11.47it/s]"
     ]
    },
    {
     "name": "stdout",
     "output_type": "stream",
     "text": [
      "time 87.1911940574646\n",
      "77 EPOCH TIME: 1.0 mins 27 sec\n"
     ]
    },
    {
     "name": "stderr",
     "output_type": "stream",
     "text": [
      "\n",
      "test model: 100%|██████████| 500/500 [00:38<00:00, 13.13it/s]\n"
     ]
    },
    {
     "name": "stdout",
     "output_type": "stream",
     "text": [
      "VALIDATION LOSSES ON EPOCH 77: tensor(1.6661)\n"
     ]
    },
    {
     "name": "stderr",
     "output_type": "stream",
     "text": [
      "train epoch 78: 100%|██████████| 1000/1000 [01:28<00:00, 11.24it/s]"
     ]
    },
    {
     "name": "stdout",
     "output_type": "stream",
     "text": [
      "time 88.948974609375\n",
      "78 EPOCH TIME: 1.0 mins 29 sec\n"
     ]
    },
    {
     "name": "stderr",
     "output_type": "stream",
     "text": [
      "\n",
      "test model: 100%|██████████| 500/500 [00:37<00:00, 13.28it/s]\n"
     ]
    },
    {
     "name": "stdout",
     "output_type": "stream",
     "text": [
      "VALIDATION LOSSES ON EPOCH 78: tensor(1.5689)\n"
     ]
    },
    {
     "name": "stderr",
     "output_type": "stream",
     "text": [
      "train epoch 79: 100%|██████████| 1000/1000 [01:26<00:00, 11.51it/s]"
     ]
    },
    {
     "name": "stdout",
     "output_type": "stream",
     "text": [
      "time 86.88564038276672\n",
      "79 EPOCH TIME: 1.0 mins 27 sec\n"
     ]
    },
    {
     "name": "stderr",
     "output_type": "stream",
     "text": [
      "\n",
      "test model: 100%|██████████| 500/500 [00:37<00:00, 13.20it/s]\n"
     ]
    },
    {
     "name": "stdout",
     "output_type": "stream",
     "text": [
      "VALIDATION LOSSES ON EPOCH 79: tensor(1.5450)\n"
     ]
    },
    {
     "name": "stderr",
     "output_type": "stream",
     "text": [
      "train epoch 80: 100%|██████████| 1000/1000 [01:26<00:00, 11.51it/s]"
     ]
    },
    {
     "name": "stdout",
     "output_type": "stream",
     "text": [
      "time 86.90555429458618\n",
      "80 EPOCH TIME: 1.0 mins 27 sec\n"
     ]
    },
    {
     "name": "stderr",
     "output_type": "stream",
     "text": [
      "\n",
      "test model: 100%|██████████| 500/500 [00:37<00:00, 13.31it/s]\n"
     ]
    },
    {
     "name": "stdout",
     "output_type": "stream",
     "text": [
      "VALIDATION LOSSES ON EPOCH 80: tensor(1.5489)\n"
     ]
    },
    {
     "name": "stderr",
     "output_type": "stream",
     "text": [
      "train epoch 81: 100%|██████████| 1000/1000 [01:28<00:00, 11.34it/s]"
     ]
    },
    {
     "name": "stdout",
     "output_type": "stream",
     "text": [
      "time 88.16001510620117\n",
      "81 EPOCH TIME: 1.0 mins 28 sec\n"
     ]
    },
    {
     "name": "stderr",
     "output_type": "stream",
     "text": [
      "\n",
      "test model: 100%|██████████| 500/500 [00:38<00:00, 13.08it/s]\n"
     ]
    },
    {
     "name": "stdout",
     "output_type": "stream",
     "text": [
      "VALIDATION LOSSES ON EPOCH 81: tensor(1.5687)\n"
     ]
    },
    {
     "name": "stderr",
     "output_type": "stream",
     "text": [
      "train epoch 82: 100%|██████████| 1000/1000 [01:28<00:00, 11.31it/s]\n"
     ]
    },
    {
     "name": "stdout",
     "output_type": "stream",
     "text": [
      "time 88.39337706565857\n",
      "82 EPOCH TIME: 1.0 mins 28 sec\n"
     ]
    },
    {
     "name": "stderr",
     "output_type": "stream",
     "text": [
      "test model: 100%|██████████| 500/500 [00:37<00:00, 13.22it/s]\n"
     ]
    },
    {
     "name": "stdout",
     "output_type": "stream",
     "text": [
      "VALIDATION LOSSES ON EPOCH 82: tensor(1.5159)\n"
     ]
    },
    {
     "name": "stderr",
     "output_type": "stream",
     "text": [
      "train epoch 83: 100%|██████████| 1000/1000 [01:26<00:00, 11.51it/s]"
     ]
    },
    {
     "name": "stdout",
     "output_type": "stream",
     "text": [
      "time 86.85521817207336\n",
      "83 EPOCH TIME: 1.0 mins 27 sec\n"
     ]
    },
    {
     "name": "stderr",
     "output_type": "stream",
     "text": [
      "\n",
      "test model: 100%|██████████| 500/500 [00:37<00:00, 13.17it/s]\n"
     ]
    },
    {
     "name": "stdout",
     "output_type": "stream",
     "text": [
      "VALIDATION LOSSES ON EPOCH 83: tensor(1.5240)\n"
     ]
    },
    {
     "name": "stderr",
     "output_type": "stream",
     "text": [
      "train epoch 84: 100%|██████████| 1000/1000 [01:27<00:00, 11.39it/s]"
     ]
    },
    {
     "name": "stdout",
     "output_type": "stream",
     "text": [
      "time 87.80343532562256\n",
      "84 EPOCH TIME: 1.0 mins 28 sec\n"
     ]
    },
    {
     "name": "stderr",
     "output_type": "stream",
     "text": [
      "\n",
      "test model: 100%|██████████| 500/500 [00:38<00:00, 13.14it/s]\n"
     ]
    },
    {
     "name": "stdout",
     "output_type": "stream",
     "text": [
      "VALIDATION LOSSES ON EPOCH 84: tensor(1.5199)\n"
     ]
    },
    {
     "name": "stderr",
     "output_type": "stream",
     "text": [
      "train epoch 85: 100%|██████████| 1000/1000 [01:28<00:00, 11.26it/s]"
     ]
    },
    {
     "name": "stdout",
     "output_type": "stream",
     "text": [
      "time 88.79542207717896\n",
      "85 EPOCH TIME: 1.0 mins 29 sec\n"
     ]
    },
    {
     "name": "stderr",
     "output_type": "stream",
     "text": [
      "\n",
      "test model: 100%|██████████| 500/500 [00:37<00:00, 13.26it/s]\n"
     ]
    },
    {
     "name": "stdout",
     "output_type": "stream",
     "text": [
      "VALIDATION LOSSES ON EPOCH 85: tensor(1.5733)\n"
     ]
    },
    {
     "name": "stderr",
     "output_type": "stream",
     "text": [
      "train epoch 86: 100%|██████████| 1000/1000 [01:27<00:00, 11.46it/s]"
     ]
    },
    {
     "name": "stdout",
     "output_type": "stream",
     "text": [
      "time 87.26804232597351\n",
      "86 EPOCH TIME: 1.0 mins 27 sec\n"
     ]
    },
    {
     "name": "stderr",
     "output_type": "stream",
     "text": [
      "\n",
      "test model: 100%|██████████| 500/500 [00:38<00:00, 13.14it/s]\n"
     ]
    },
    {
     "name": "stdout",
     "output_type": "stream",
     "text": [
      "VALIDATION LOSSES ON EPOCH 86: tensor(1.6074)\n"
     ]
    },
    {
     "name": "stderr",
     "output_type": "stream",
     "text": [
      "train epoch 87: 100%|██████████| 1000/1000 [01:29<00:00, 11.22it/s]"
     ]
    },
    {
     "name": "stdout",
     "output_type": "stream",
     "text": [
      "time 89.14422798156738\n",
      "87 EPOCH TIME: 1.0 mins 29 sec\n"
     ]
    },
    {
     "name": "stderr",
     "output_type": "stream",
     "text": [
      "\n",
      "test model: 100%|██████████| 500/500 [00:38<00:00, 12.96it/s]\n"
     ]
    },
    {
     "name": "stdout",
     "output_type": "stream",
     "text": [
      "VALIDATION LOSSES ON EPOCH 87: tensor(1.5539)\n"
     ]
    },
    {
     "name": "stderr",
     "output_type": "stream",
     "text": [
      "train epoch 88: 100%|██████████| 1000/1000 [01:28<00:00, 11.30it/s]"
     ]
    },
    {
     "name": "stdout",
     "output_type": "stream",
     "text": [
      "time 88.47444462776184\n",
      "88 EPOCH TIME: 1.0 mins 28 sec\n"
     ]
    },
    {
     "name": "stderr",
     "output_type": "stream",
     "text": [
      "\n",
      "test model: 100%|██████████| 500/500 [00:38<00:00, 13.09it/s]\n"
     ]
    },
    {
     "name": "stdout",
     "output_type": "stream",
     "text": [
      "VALIDATION LOSSES ON EPOCH 88: tensor(1.5530)\n"
     ]
    },
    {
     "name": "stderr",
     "output_type": "stream",
     "text": [
      "train epoch 89: 100%|██████████| 1000/1000 [01:27<00:00, 11.42it/s]"
     ]
    },
    {
     "name": "stdout",
     "output_type": "stream",
     "text": [
      "time 87.56541705131531\n",
      "89 EPOCH TIME: 1.0 mins 28 sec\n"
     ]
    },
    {
     "name": "stderr",
     "output_type": "stream",
     "text": [
      "\n",
      "test model: 100%|██████████| 500/500 [00:38<00:00, 13.15it/s]\n"
     ]
    },
    {
     "name": "stdout",
     "output_type": "stream",
     "text": [
      "VALIDATION LOSSES ON EPOCH 89: tensor(1.5245)\n"
     ]
    },
    {
     "name": "stderr",
     "output_type": "stream",
     "text": [
      "train epoch 90: 100%|██████████| 1000/1000 [01:28<00:00, 11.34it/s]"
     ]
    },
    {
     "name": "stdout",
     "output_type": "stream",
     "text": [
      "time 88.1950466632843\n",
      "90 EPOCH TIME: 1.0 mins 28 sec\n"
     ]
    },
    {
     "name": "stderr",
     "output_type": "stream",
     "text": [
      "\n",
      "test model: 100%|██████████| 500/500 [00:37<00:00, 13.17it/s]\n"
     ]
    },
    {
     "name": "stdout",
     "output_type": "stream",
     "text": [
      "VALIDATION LOSSES ON EPOCH 90: tensor(1.5457)\n"
     ]
    },
    {
     "name": "stderr",
     "output_type": "stream",
     "text": [
      "train epoch 91: 100%|██████████| 1000/1000 [01:28<00:00, 11.26it/s]"
     ]
    },
    {
     "name": "stdout",
     "output_type": "stream",
     "text": [
      "time 88.82392978668213\n",
      "91 EPOCH TIME: 1.0 mins 29 sec\n"
     ]
    },
    {
     "name": "stderr",
     "output_type": "stream",
     "text": [
      "\n",
      "test model: 100%|██████████| 500/500 [00:38<00:00, 13.05it/s]\n"
     ]
    },
    {
     "name": "stdout",
     "output_type": "stream",
     "text": [
      "VALIDATION LOSSES ON EPOCH 91: tensor(1.5385)\n"
     ]
    },
    {
     "name": "stderr",
     "output_type": "stream",
     "text": [
      "train epoch 92: 100%|██████████| 1000/1000 [01:27<00:00, 11.48it/s]"
     ]
    },
    {
     "name": "stdout",
     "output_type": "stream",
     "text": [
      "time 87.13107347488403\n",
      "92 EPOCH TIME: 1.0 mins 27 sec\n"
     ]
    },
    {
     "name": "stderr",
     "output_type": "stream",
     "text": [
      "\n",
      "test model: 100%|██████████| 500/500 [00:38<00:00, 13.02it/s]\n"
     ]
    },
    {
     "name": "stdout",
     "output_type": "stream",
     "text": [
      "VALIDATION LOSSES ON EPOCH 92: tensor(1.6427)\n"
     ]
    },
    {
     "name": "stderr",
     "output_type": "stream",
     "text": [
      "train epoch 93: 100%|██████████| 1000/1000 [01:26<00:00, 11.50it/s]"
     ]
    },
    {
     "name": "stdout",
     "output_type": "stream",
     "text": [
      "time 86.9521484375\n",
      "93 EPOCH TIME: 1.0 mins 27 sec\n"
     ]
    },
    {
     "name": "stderr",
     "output_type": "stream",
     "text": [
      "\n",
      "test model: 100%|██████████| 500/500 [00:37<00:00, 13.18it/s]\n"
     ]
    },
    {
     "name": "stdout",
     "output_type": "stream",
     "text": [
      "VALIDATION LOSSES ON EPOCH 93: tensor(1.6409)\n"
     ]
    },
    {
     "name": "stderr",
     "output_type": "stream",
     "text": [
      "train epoch 94: 100%|██████████| 1000/1000 [01:28<00:00, 11.36it/s]"
     ]
    },
    {
     "name": "stdout",
     "output_type": "stream",
     "text": [
      "time 88.00484681129456\n",
      "94 EPOCH TIME: 1.0 mins 28 sec\n"
     ]
    },
    {
     "name": "stderr",
     "output_type": "stream",
     "text": [
      "\n",
      "test model: 100%|██████████| 500/500 [00:37<00:00, 13.29it/s]\n"
     ]
    },
    {
     "name": "stdout",
     "output_type": "stream",
     "text": [
      "VALIDATION LOSSES ON EPOCH 94: tensor(1.7083)\n"
     ]
    },
    {
     "name": "stderr",
     "output_type": "stream",
     "text": [
      "train epoch 95: 100%|██████████| 1000/1000 [01:29<00:00, 11.18it/s]"
     ]
    },
    {
     "name": "stdout",
     "output_type": "stream",
     "text": [
      "time 89.41170334815979\n",
      "95 EPOCH TIME: 1.0 mins 29 sec\n"
     ]
    },
    {
     "name": "stderr",
     "output_type": "stream",
     "text": [
      "\n",
      "test model: 100%|██████████| 500/500 [00:37<00:00, 13.30it/s]\n"
     ]
    },
    {
     "name": "stdout",
     "output_type": "stream",
     "text": [
      "VALIDATION LOSSES ON EPOCH 95: tensor(1.5061)\n",
      "NEW BEST!\n"
     ]
    },
    {
     "name": "stderr",
     "output_type": "stream",
     "text": [
      "train epoch 96: 100%|██████████| 1000/1000 [01:28<00:00, 11.35it/s]"
     ]
    },
    {
     "name": "stdout",
     "output_type": "stream",
     "text": [
      "time 88.07716989517212\n",
      "96 EPOCH TIME: 1.0 mins 28 sec\n"
     ]
    },
    {
     "name": "stderr",
     "output_type": "stream",
     "text": [
      "\n",
      "test model: 100%|██████████| 500/500 [00:38<00:00, 13.08it/s]\n"
     ]
    },
    {
     "name": "stdout",
     "output_type": "stream",
     "text": [
      "VALIDATION LOSSES ON EPOCH 96: tensor(1.5456)\n"
     ]
    },
    {
     "name": "stderr",
     "output_type": "stream",
     "text": [
      "train epoch 97: 100%|██████████| 1000/1000 [01:28<00:00, 11.27it/s]"
     ]
    },
    {
     "name": "stdout",
     "output_type": "stream",
     "text": [
      "time 88.74531650543213\n",
      "97 EPOCH TIME: 1.0 mins 29 sec\n"
     ]
    },
    {
     "name": "stderr",
     "output_type": "stream",
     "text": [
      "\n",
      "test model: 100%|██████████| 500/500 [00:38<00:00, 13.12it/s]\n"
     ]
    },
    {
     "name": "stdout",
     "output_type": "stream",
     "text": [
      "VALIDATION LOSSES ON EPOCH 97: tensor(1.5759)\n"
     ]
    },
    {
     "name": "stderr",
     "output_type": "stream",
     "text": [
      "train epoch 98: 100%|██████████| 1000/1000 [01:27<00:00, 11.48it/s]"
     ]
    },
    {
     "name": "stdout",
     "output_type": "stream",
     "text": [
      "time 87.12214350700378\n",
      "98 EPOCH TIME: 1.0 mins 27 sec\n"
     ]
    },
    {
     "name": "stderr",
     "output_type": "stream",
     "text": [
      "\n",
      "test model: 100%|██████████| 500/500 [00:38<00:00, 13.10it/s]\n"
     ]
    },
    {
     "name": "stdout",
     "output_type": "stream",
     "text": [
      "VALIDATION LOSSES ON EPOCH 98: tensor(1.5829)\n"
     ]
    },
    {
     "name": "stderr",
     "output_type": "stream",
     "text": [
      "train epoch 99: 100%|██████████| 1000/1000 [01:27<00:00, 11.46it/s]"
     ]
    },
    {
     "name": "stdout",
     "output_type": "stream",
     "text": [
      "time 87.25010514259338\n",
      "99 EPOCH TIME: 1.0 mins 27 sec\n"
     ]
    },
    {
     "name": "stderr",
     "output_type": "stream",
     "text": [
      "\n",
      "test model: 100%|██████████| 500/500 [00:37<00:00, 13.35it/s]\n"
     ]
    },
    {
     "name": "stdout",
     "output_type": "stream",
     "text": [
      "VALIDATION LOSSES ON EPOCH 99: tensor(1.5633)\n"
     ]
    },
    {
     "name": "stderr",
     "output_type": "stream",
     "text": [
      "train epoch 100: 100%|██████████| 1000/1000 [01:28<00:00, 11.27it/s]"
     ]
    },
    {
     "name": "stdout",
     "output_type": "stream",
     "text": [
      "time 88.76273012161255\n",
      "100 EPOCH TIME: 1.0 mins 29 sec\n"
     ]
    },
    {
     "name": "stderr",
     "output_type": "stream",
     "text": [
      "\n",
      "test model: 100%|██████████| 500/500 [00:38<00:00, 13.11it/s]\n"
     ]
    },
    {
     "name": "stdout",
     "output_type": "stream",
     "text": [
      "VALIDATION LOSSES ON EPOCH 100: tensor(1.5406)\n"
     ]
    },
    {
     "name": "stderr",
     "output_type": "stream",
     "text": [
      "train epoch 101: 100%|██████████| 1000/1000 [01:28<00:00, 11.32it/s]"
     ]
    },
    {
     "name": "stdout",
     "output_type": "stream",
     "text": [
      "time 88.34847235679626\n",
      "101 EPOCH TIME: 1.0 mins 28 sec\n"
     ]
    },
    {
     "name": "stderr",
     "output_type": "stream",
     "text": [
      "\n",
      "test model: 100%|██████████| 500/500 [00:38<00:00, 13.13it/s]\n"
     ]
    },
    {
     "name": "stdout",
     "output_type": "stream",
     "text": [
      "VALIDATION LOSSES ON EPOCH 101: tensor(1.5450)\n"
     ]
    },
    {
     "name": "stderr",
     "output_type": "stream",
     "text": [
      "train epoch 102: 100%|██████████| 1000/1000 [01:28<00:00, 11.26it/s]"
     ]
    },
    {
     "name": "stdout",
     "output_type": "stream",
     "text": [
      "time 88.83827114105225\n",
      "102 EPOCH TIME: 1.0 mins 29 sec\n"
     ]
    },
    {
     "name": "stderr",
     "output_type": "stream",
     "text": [
      "\n",
      "test model: 100%|██████████| 500/500 [00:37<00:00, 13.16it/s]\n"
     ]
    },
    {
     "name": "stdout",
     "output_type": "stream",
     "text": [
      "VALIDATION LOSSES ON EPOCH 102: tensor(1.5599)\n"
     ]
    },
    {
     "name": "stderr",
     "output_type": "stream",
     "text": [
      "train epoch 103: 100%|██████████| 1000/1000 [01:28<00:00, 11.29it/s]"
     ]
    },
    {
     "name": "stdout",
     "output_type": "stream",
     "text": [
      "time 88.57800960540771\n",
      "103 EPOCH TIME: 1.0 mins 29 sec\n"
     ]
    },
    {
     "name": "stderr",
     "output_type": "stream",
     "text": [
      "\n",
      "test model: 100%|██████████| 500/500 [00:38<00:00, 13.07it/s]\n"
     ]
    },
    {
     "name": "stdout",
     "output_type": "stream",
     "text": [
      "VALIDATION LOSSES ON EPOCH 103: tensor(1.6247)\n"
     ]
    },
    {
     "name": "stderr",
     "output_type": "stream",
     "text": [
      "train epoch 104: 100%|██████████| 1000/1000 [01:28<00:00, 11.32it/s]"
     ]
    },
    {
     "name": "stdout",
     "output_type": "stream",
     "text": [
      "time 88.30430555343628\n",
      "104 EPOCH TIME: 1.0 mins 28 sec\n"
     ]
    },
    {
     "name": "stderr",
     "output_type": "stream",
     "text": [
      "\n",
      "test model: 100%|██████████| 500/500 [00:37<00:00, 13.25it/s]\n"
     ]
    },
    {
     "name": "stdout",
     "output_type": "stream",
     "text": [
      "VALIDATION LOSSES ON EPOCH 104: tensor(1.5479)\n"
     ]
    },
    {
     "name": "stderr",
     "output_type": "stream",
     "text": [
      "train epoch 105: 100%|██████████| 1000/1000 [01:28<00:00, 11.28it/s]"
     ]
    },
    {
     "name": "stdout",
     "output_type": "stream",
     "text": [
      "time 88.64915442466736\n",
      "105 EPOCH TIME: 1.0 mins 29 sec\n"
     ]
    },
    {
     "name": "stderr",
     "output_type": "stream",
     "text": [
      "\n",
      "test model: 100%|██████████| 500/500 [00:37<00:00, 13.29it/s]\n"
     ]
    },
    {
     "name": "stdout",
     "output_type": "stream",
     "text": [
      "VALIDATION LOSSES ON EPOCH 105: tensor(1.4853)\n",
      "NEW BEST!\n"
     ]
    },
    {
     "name": "stderr",
     "output_type": "stream",
     "text": [
      "train epoch 106: 100%|██████████| 1000/1000 [01:28<00:00, 11.28it/s]"
     ]
    },
    {
     "name": "stdout",
     "output_type": "stream",
     "text": [
      "time 88.66020822525024\n",
      "106 EPOCH TIME: 1.0 mins 29 sec\n"
     ]
    },
    {
     "name": "stderr",
     "output_type": "stream",
     "text": [
      "\n",
      "test model: 100%|██████████| 500/500 [00:37<00:00, 13.24it/s]\n"
     ]
    },
    {
     "name": "stdout",
     "output_type": "stream",
     "text": [
      "VALIDATION LOSSES ON EPOCH 106: tensor(1.5702)\n"
     ]
    },
    {
     "name": "stderr",
     "output_type": "stream",
     "text": [
      "train epoch 107: 100%|██████████| 1000/1000 [01:28<00:00, 11.25it/s]"
     ]
    },
    {
     "name": "stdout",
     "output_type": "stream",
     "text": [
      "time 88.87319803237915\n",
      "107 EPOCH TIME: 1.0 mins 29 sec\n"
     ]
    },
    {
     "name": "stderr",
     "output_type": "stream",
     "text": [
      "\n",
      "test model: 100%|██████████| 500/500 [00:38<00:00, 13.15it/s]\n"
     ]
    },
    {
     "name": "stdout",
     "output_type": "stream",
     "text": [
      "VALIDATION LOSSES ON EPOCH 107: tensor(1.5380)\n"
     ]
    },
    {
     "name": "stderr",
     "output_type": "stream",
     "text": [
      "train epoch 108: 100%|██████████| 1000/1000 [01:29<00:00, 11.20it/s]"
     ]
    },
    {
     "name": "stdout",
     "output_type": "stream",
     "text": [
      "time 89.26512241363525\n",
      "108 EPOCH TIME: 1.0 mins 29 sec\n"
     ]
    },
    {
     "name": "stderr",
     "output_type": "stream",
     "text": [
      "\n",
      "test model: 100%|██████████| 500/500 [00:38<00:00, 13.13it/s]\n"
     ]
    },
    {
     "name": "stdout",
     "output_type": "stream",
     "text": [
      "VALIDATION LOSSES ON EPOCH 108: tensor(1.4936)\n"
     ]
    },
    {
     "name": "stderr",
     "output_type": "stream",
     "text": [
      "train epoch 109: 100%|██████████| 1000/1000 [01:29<00:00, 11.21it/s]"
     ]
    },
    {
     "name": "stdout",
     "output_type": "stream",
     "text": [
      "time 89.21790170669556\n",
      "109 EPOCH TIME: 1.0 mins 29 sec\n"
     ]
    },
    {
     "name": "stderr",
     "output_type": "stream",
     "text": [
      "\n",
      "test model: 100%|██████████| 500/500 [00:37<00:00, 13.28it/s]\n"
     ]
    },
    {
     "name": "stdout",
     "output_type": "stream",
     "text": [
      "VALIDATION LOSSES ON EPOCH 109: tensor(1.5291)\n"
     ]
    },
    {
     "name": "stderr",
     "output_type": "stream",
     "text": [
      "train epoch 110: 100%|██████████| 1000/1000 [01:28<00:00, 11.30it/s]"
     ]
    },
    {
     "name": "stdout",
     "output_type": "stream",
     "text": [
      "time 88.4980046749115\n",
      "110 EPOCH TIME: 1.0 mins 29 sec\n"
     ]
    },
    {
     "name": "stderr",
     "output_type": "stream",
     "text": [
      "\n",
      "test model: 100%|██████████| 500/500 [00:38<00:00, 13.14it/s]\n"
     ]
    },
    {
     "name": "stdout",
     "output_type": "stream",
     "text": [
      "VALIDATION LOSSES ON EPOCH 110: tensor(1.5971)\n"
     ]
    },
    {
     "name": "stderr",
     "output_type": "stream",
     "text": [
      "train epoch 111: 100%|██████████| 1000/1000 [01:28<00:00, 11.32it/s]"
     ]
    },
    {
     "name": "stdout",
     "output_type": "stream",
     "text": [
      "time 88.30664873123169\n",
      "111 EPOCH TIME: 1.0 mins 28 sec\n"
     ]
    },
    {
     "name": "stderr",
     "output_type": "stream",
     "text": [
      "\n",
      "test model: 100%|██████████| 500/500 [00:38<00:00, 13.06it/s]\n"
     ]
    },
    {
     "name": "stdout",
     "output_type": "stream",
     "text": [
      "VALIDATION LOSSES ON EPOCH 111: tensor(1.5957)\n"
     ]
    },
    {
     "name": "stderr",
     "output_type": "stream",
     "text": [
      "train epoch 112: 100%|██████████| 1000/1000 [01:28<00:00, 11.29it/s]"
     ]
    },
    {
     "name": "stdout",
     "output_type": "stream",
     "text": [
      "time 88.5559458732605\n",
      "112 EPOCH TIME: 1.0 mins 29 sec\n"
     ]
    },
    {
     "name": "stderr",
     "output_type": "stream",
     "text": [
      "\n",
      "test model: 100%|██████████| 500/500 [00:37<00:00, 13.23it/s]\n"
     ]
    },
    {
     "name": "stdout",
     "output_type": "stream",
     "text": [
      "VALIDATION LOSSES ON EPOCH 112: tensor(1.6054)\n"
     ]
    },
    {
     "name": "stderr",
     "output_type": "stream",
     "text": [
      "train epoch 113: 100%|██████████| 1000/1000 [01:28<00:00, 11.34it/s]"
     ]
    },
    {
     "name": "stdout",
     "output_type": "stream",
     "text": [
      "time 88.16900110244751\n",
      "113 EPOCH TIME: 1.0 mins 28 sec\n"
     ]
    },
    {
     "name": "stderr",
     "output_type": "stream",
     "text": [
      "\n",
      "test model: 100%|██████████| 500/500 [00:38<00:00, 13.06it/s]\n"
     ]
    },
    {
     "name": "stdout",
     "output_type": "stream",
     "text": [
      "VALIDATION LOSSES ON EPOCH 113: tensor(1.5845)\n"
     ]
    },
    {
     "name": "stderr",
     "output_type": "stream",
     "text": [
      "train epoch 114: 100%|██████████| 1000/1000 [01:30<00:00, 11.09it/s]"
     ]
    },
    {
     "name": "stdout",
     "output_type": "stream",
     "text": [
      "time 90.21275353431702\n",
      "114 EPOCH TIME: 1.0 mins 30 sec\n"
     ]
    },
    {
     "name": "stderr",
     "output_type": "stream",
     "text": [
      "\n",
      "test model: 100%|██████████| 500/500 [00:38<00:00, 13.11it/s]\n"
     ]
    },
    {
     "name": "stdout",
     "output_type": "stream",
     "text": [
      "VALIDATION LOSSES ON EPOCH 114: tensor(1.5487)\n"
     ]
    },
    {
     "name": "stderr",
     "output_type": "stream",
     "text": [
      "train epoch 115: 100%|██████████| 1000/1000 [01:29<00:00, 11.14it/s]"
     ]
    },
    {
     "name": "stdout",
     "output_type": "stream",
     "text": [
      "time 89.72958397865295\n",
      "115 EPOCH TIME: 1.0 mins 30 sec\n"
     ]
    },
    {
     "name": "stderr",
     "output_type": "stream",
     "text": [
      "\n",
      "test model: 100%|██████████| 500/500 [00:38<00:00, 13.02it/s]\n"
     ]
    },
    {
     "name": "stdout",
     "output_type": "stream",
     "text": [
      "VALIDATION LOSSES ON EPOCH 115: tensor(1.6206)\n"
     ]
    },
    {
     "name": "stderr",
     "output_type": "stream",
     "text": [
      "train epoch 116: 100%|██████████| 1000/1000 [01:28<00:00, 11.35it/s]"
     ]
    },
    {
     "name": "stdout",
     "output_type": "stream",
     "text": [
      "time 88.14541268348694\n",
      "116 EPOCH TIME: 1.0 mins 28 sec\n"
     ]
    },
    {
     "name": "stderr",
     "output_type": "stream",
     "text": [
      "\n",
      "test model: 100%|██████████| 500/500 [00:38<00:00, 13.07it/s]\n"
     ]
    },
    {
     "name": "stdout",
     "output_type": "stream",
     "text": [
      "VALIDATION LOSSES ON EPOCH 116: tensor(1.5196)\n"
     ]
    },
    {
     "name": "stderr",
     "output_type": "stream",
     "text": [
      "train epoch 117: 100%|██████████| 1000/1000 [01:29<00:00, 11.18it/s]"
     ]
    },
    {
     "name": "stdout",
     "output_type": "stream",
     "text": [
      "time 89.44407510757446\n",
      "117 EPOCH TIME: 1.0 mins 29 sec\n"
     ]
    },
    {
     "name": "stderr",
     "output_type": "stream",
     "text": [
      "\n",
      "test model: 100%|██████████| 500/500 [00:38<00:00, 12.98it/s]\n"
     ]
    },
    {
     "name": "stdout",
     "output_type": "stream",
     "text": [
      "VALIDATION LOSSES ON EPOCH 117: tensor(1.5246)\n"
     ]
    },
    {
     "name": "stderr",
     "output_type": "stream",
     "text": [
      "train epoch 118: 100%|██████████| 1000/1000 [01:29<00:00, 11.16it/s]"
     ]
    },
    {
     "name": "stdout",
     "output_type": "stream",
     "text": [
      "time 89.56836795806885\n",
      "118 EPOCH TIME: 1.0 mins 30 sec\n"
     ]
    },
    {
     "name": "stderr",
     "output_type": "stream",
     "text": [
      "\n",
      "test model: 100%|██████████| 500/500 [00:38<00:00, 12.90it/s]\n"
     ]
    },
    {
     "name": "stdout",
     "output_type": "stream",
     "text": [
      "VALIDATION LOSSES ON EPOCH 118: tensor(1.4979)\n"
     ]
    },
    {
     "name": "stderr",
     "output_type": "stream",
     "text": [
      "train epoch 119: 100%|██████████| 1000/1000 [01:29<00:00, 11.13it/s]"
     ]
    },
    {
     "name": "stdout",
     "output_type": "stream",
     "text": [
      "time 89.88123202323914\n",
      "119 EPOCH TIME: 1.0 mins 30 sec\n"
     ]
    },
    {
     "name": "stderr",
     "output_type": "stream",
     "text": [
      "\n",
      "test model: 100%|██████████| 500/500 [00:38<00:00, 13.02it/s]\n"
     ]
    },
    {
     "name": "stdout",
     "output_type": "stream",
     "text": [
      "VALIDATION LOSSES ON EPOCH 119: tensor(1.5963)\n"
     ]
    },
    {
     "name": "stderr",
     "output_type": "stream",
     "text": [
      "train epoch 120: 100%|██████████| 1000/1000 [01:28<00:00, 11.34it/s]"
     ]
    },
    {
     "name": "stdout",
     "output_type": "stream",
     "text": [
      "time 88.20088863372803\n",
      "120 EPOCH TIME: 1.0 mins 28 sec\n"
     ]
    },
    {
     "name": "stderr",
     "output_type": "stream",
     "text": [
      "\n",
      "test model: 100%|██████████| 500/500 [00:37<00:00, 13.22it/s]\n"
     ]
    },
    {
     "name": "stdout",
     "output_type": "stream",
     "text": [
      "VALIDATION LOSSES ON EPOCH 120: tensor(1.4805)\n",
      "NEW BEST!\n"
     ]
    },
    {
     "name": "stderr",
     "output_type": "stream",
     "text": [
      "train epoch 121: 100%|██████████| 1000/1000 [01:28<00:00, 11.31it/s]"
     ]
    },
    {
     "name": "stdout",
     "output_type": "stream",
     "text": [
      "time 88.39042353630066\n",
      "121 EPOCH TIME: 1.0 mins 28 sec\n"
     ]
    },
    {
     "name": "stderr",
     "output_type": "stream",
     "text": [
      "\n",
      "test model: 100%|██████████| 500/500 [00:38<00:00, 13.16it/s]\n"
     ]
    },
    {
     "name": "stdout",
     "output_type": "stream",
     "text": [
      "VALIDATION LOSSES ON EPOCH 121: tensor(1.5118)\n"
     ]
    },
    {
     "name": "stderr",
     "output_type": "stream",
     "text": [
      "train epoch 122: 100%|██████████| 1000/1000 [01:28<00:00, 11.25it/s]"
     ]
    },
    {
     "name": "stdout",
     "output_type": "stream",
     "text": [
      "time 88.90944719314575\n",
      "122 EPOCH TIME: 1.0 mins 29 sec\n"
     ]
    },
    {
     "name": "stderr",
     "output_type": "stream",
     "text": [
      "\n",
      "test model: 100%|██████████| 500/500 [00:38<00:00, 13.13it/s]\n"
     ]
    },
    {
     "name": "stdout",
     "output_type": "stream",
     "text": [
      "VALIDATION LOSSES ON EPOCH 122: tensor(1.6318)\n"
     ]
    },
    {
     "name": "stderr",
     "output_type": "stream",
     "text": [
      "train epoch 123: 100%|██████████| 1000/1000 [01:28<00:00, 11.27it/s]"
     ]
    },
    {
     "name": "stdout",
     "output_type": "stream",
     "text": [
      "time 88.7542085647583\n",
      "123 EPOCH TIME: 1.0 mins 29 sec\n"
     ]
    },
    {
     "name": "stderr",
     "output_type": "stream",
     "text": [
      "\n",
      "test model: 100%|██████████| 500/500 [00:38<00:00, 13.06it/s]\n"
     ]
    },
    {
     "name": "stdout",
     "output_type": "stream",
     "text": [
      "VALIDATION LOSSES ON EPOCH 123: tensor(1.5238)\n"
     ]
    },
    {
     "name": "stderr",
     "output_type": "stream",
     "text": [
      "train epoch 124: 100%|██████████| 1000/1000 [01:28<00:00, 11.29it/s]"
     ]
    },
    {
     "name": "stdout",
     "output_type": "stream",
     "text": [
      "time 88.55198788642883\n",
      "124 EPOCH TIME: 1.0 mins 29 sec\n"
     ]
    },
    {
     "name": "stderr",
     "output_type": "stream",
     "text": [
      "\n",
      "test model: 100%|██████████| 500/500 [00:37<00:00, 13.28it/s]\n"
     ]
    },
    {
     "name": "stdout",
     "output_type": "stream",
     "text": [
      "VALIDATION LOSSES ON EPOCH 124: tensor(1.6251)\n"
     ]
    },
    {
     "name": "stderr",
     "output_type": "stream",
     "text": [
      "train epoch 125: 100%|██████████| 1000/1000 [01:28<00:00, 11.25it/s]"
     ]
    },
    {
     "name": "stdout",
     "output_type": "stream",
     "text": [
      "time 88.85294365882874\n",
      "125 EPOCH TIME: 1.0 mins 29 sec\n"
     ]
    },
    {
     "name": "stderr",
     "output_type": "stream",
     "text": [
      "\n",
      "test model: 100%|██████████| 500/500 [00:38<00:00, 13.09it/s]\n"
     ]
    },
    {
     "name": "stdout",
     "output_type": "stream",
     "text": [
      "VALIDATION LOSSES ON EPOCH 125: tensor(1.4664)\n",
      "NEW BEST!\n"
     ]
    },
    {
     "name": "stderr",
     "output_type": "stream",
     "text": [
      "train epoch 126: 100%|██████████| 1000/1000 [01:28<00:00, 11.34it/s]"
     ]
    },
    {
     "name": "stdout",
     "output_type": "stream",
     "text": [
      "time 88.15935778617859\n",
      "126 EPOCH TIME: 1.0 mins 28 sec\n"
     ]
    },
    {
     "name": "stderr",
     "output_type": "stream",
     "text": [
      "\n",
      "test model: 100%|██████████| 500/500 [00:37<00:00, 13.20it/s]\n"
     ]
    },
    {
     "name": "stdout",
     "output_type": "stream",
     "text": [
      "VALIDATION LOSSES ON EPOCH 126: tensor(1.5212)\n"
     ]
    },
    {
     "name": "stderr",
     "output_type": "stream",
     "text": [
      "train epoch 127: 100%|██████████| 1000/1000 [01:27<00:00, 11.41it/s]"
     ]
    },
    {
     "name": "stdout",
     "output_type": "stream",
     "text": [
      "time 87.61819243431091\n",
      "127 EPOCH TIME: 1.0 mins 28 sec\n"
     ]
    },
    {
     "name": "stderr",
     "output_type": "stream",
     "text": [
      "\n",
      "test model: 100%|██████████| 500/500 [00:38<00:00, 13.11it/s]\n"
     ]
    },
    {
     "name": "stdout",
     "output_type": "stream",
     "text": [
      "VALIDATION LOSSES ON EPOCH 127: tensor(1.4865)\n"
     ]
    },
    {
     "name": "stderr",
     "output_type": "stream",
     "text": [
      "train epoch 128: 100%|██████████| 1000/1000 [01:27<00:00, 11.46it/s]"
     ]
    },
    {
     "name": "stdout",
     "output_type": "stream",
     "text": [
      "time 87.28842401504517\n",
      "128 EPOCH TIME: 1.0 mins 27 sec\n"
     ]
    },
    {
     "name": "stderr",
     "output_type": "stream",
     "text": [
      "\n",
      "test model: 100%|██████████| 500/500 [00:37<00:00, 13.21it/s]\n"
     ]
    },
    {
     "name": "stdout",
     "output_type": "stream",
     "text": [
      "VALIDATION LOSSES ON EPOCH 128: tensor(1.4855)\n"
     ]
    },
    {
     "name": "stderr",
     "output_type": "stream",
     "text": [
      "train epoch 129: 100%|██████████| 1000/1000 [01:27<00:00, 11.36it/s]"
     ]
    },
    {
     "name": "stdout",
     "output_type": "stream",
     "text": [
      "time 88.00081586837769\n",
      "129 EPOCH TIME: 1.0 mins 28 sec\n"
     ]
    },
    {
     "name": "stderr",
     "output_type": "stream",
     "text": [
      "\n",
      "test model: 100%|██████████| 500/500 [00:37<00:00, 13.25it/s]\n"
     ]
    },
    {
     "name": "stdout",
     "output_type": "stream",
     "text": [
      "VALIDATION LOSSES ON EPOCH 129: tensor(1.5632)\n"
     ]
    },
    {
     "name": "stderr",
     "output_type": "stream",
     "text": [
      "train epoch 130: 100%|██████████| 1000/1000 [01:28<00:00, 11.24it/s]"
     ]
    },
    {
     "name": "stdout",
     "output_type": "stream",
     "text": [
      "time 89.00087475776672\n",
      "130 EPOCH TIME: 1.0 mins 29 sec\n"
     ]
    },
    {
     "name": "stderr",
     "output_type": "stream",
     "text": [
      "\n",
      "test model: 100%|██████████| 500/500 [00:37<00:00, 13.21it/s]\n"
     ]
    },
    {
     "name": "stdout",
     "output_type": "stream",
     "text": [
      "VALIDATION LOSSES ON EPOCH 130: tensor(1.5150)\n"
     ]
    },
    {
     "name": "stderr",
     "output_type": "stream",
     "text": [
      "train epoch 131: 100%|██████████| 1000/1000 [01:29<00:00, 11.22it/s]"
     ]
    },
    {
     "name": "stdout",
     "output_type": "stream",
     "text": [
      "time 89.0925395488739\n",
      "131 EPOCH TIME: 1.0 mins 29 sec\n"
     ]
    },
    {
     "name": "stderr",
     "output_type": "stream",
     "text": [
      "\n",
      "test model: 100%|██████████| 500/500 [00:38<00:00, 13.16it/s]\n"
     ]
    },
    {
     "name": "stdout",
     "output_type": "stream",
     "text": [
      "VALIDATION LOSSES ON EPOCH 131: tensor(1.5240)\n"
     ]
    },
    {
     "name": "stderr",
     "output_type": "stream",
     "text": [
      "train epoch 132: 100%|██████████| 1000/1000 [01:29<00:00, 11.21it/s]"
     ]
    },
    {
     "name": "stdout",
     "output_type": "stream",
     "text": [
      "time 89.18181872367859\n",
      "132 EPOCH TIME: 1.0 mins 29 sec\n"
     ]
    },
    {
     "name": "stderr",
     "output_type": "stream",
     "text": [
      "\n",
      "test model: 100%|██████████| 500/500 [00:37<00:00, 13.32it/s]\n"
     ]
    },
    {
     "name": "stdout",
     "output_type": "stream",
     "text": [
      "VALIDATION LOSSES ON EPOCH 132: tensor(1.5429)\n"
     ]
    },
    {
     "name": "stderr",
     "output_type": "stream",
     "text": [
      "train epoch 133: 100%|██████████| 1000/1000 [01:29<00:00, 11.17it/s]"
     ]
    },
    {
     "name": "stdout",
     "output_type": "stream",
     "text": [
      "time 89.505544424057\n",
      "133 EPOCH TIME: 1.0 mins 30 sec\n"
     ]
    },
    {
     "name": "stderr",
     "output_type": "stream",
     "text": [
      "\n",
      "test model: 100%|██████████| 500/500 [00:38<00:00, 13.11it/s]\n"
     ]
    },
    {
     "name": "stdout",
     "output_type": "stream",
     "text": [
      "VALIDATION LOSSES ON EPOCH 133: tensor(1.5093)\n"
     ]
    },
    {
     "name": "stderr",
     "output_type": "stream",
     "text": [
      "train epoch 134: 100%|██████████| 1000/1000 [01:28<00:00, 11.26it/s]"
     ]
    },
    {
     "name": "stdout",
     "output_type": "stream",
     "text": [
      "time 88.77852511405945\n",
      "134 EPOCH TIME: 1.0 mins 29 sec\n"
     ]
    },
    {
     "name": "stderr",
     "output_type": "stream",
     "text": [
      "\n",
      "test model: 100%|██████████| 500/500 [00:38<00:00, 13.05it/s]\n"
     ]
    },
    {
     "name": "stdout",
     "output_type": "stream",
     "text": [
      "VALIDATION LOSSES ON EPOCH 134: tensor(1.4535)\n",
      "NEW BEST!\n"
     ]
    },
    {
     "name": "stderr",
     "output_type": "stream",
     "text": [
      "train epoch 135: 100%|██████████| 1000/1000 [01:27<00:00, 11.38it/s]"
     ]
    },
    {
     "name": "stdout",
     "output_type": "stream",
     "text": [
      "time 87.87766170501709\n",
      "135 EPOCH TIME: 1.0 mins 28 sec\n"
     ]
    },
    {
     "name": "stderr",
     "output_type": "stream",
     "text": [
      "\n",
      "test model: 100%|██████████| 500/500 [00:37<00:00, 13.32it/s]\n"
     ]
    },
    {
     "name": "stdout",
     "output_type": "stream",
     "text": [
      "VALIDATION LOSSES ON EPOCH 135: tensor(1.5559)\n"
     ]
    },
    {
     "name": "stderr",
     "output_type": "stream",
     "text": [
      "train epoch 136: 100%|██████████| 1000/1000 [01:27<00:00, 11.47it/s]"
     ]
    },
    {
     "name": "stdout",
     "output_type": "stream",
     "text": [
      "time 87.1500198841095\n",
      "136 EPOCH TIME: 1.0 mins 27 sec\n"
     ]
    },
    {
     "name": "stderr",
     "output_type": "stream",
     "text": [
      "\n",
      "test model: 100%|██████████| 500/500 [00:37<00:00, 13.26it/s]\n"
     ]
    },
    {
     "name": "stdout",
     "output_type": "stream",
     "text": [
      "VALIDATION LOSSES ON EPOCH 136: tensor(1.5321)\n"
     ]
    },
    {
     "name": "stderr",
     "output_type": "stream",
     "text": [
      "train epoch 137: 100%|██████████| 1000/1000 [01:27<00:00, 11.43it/s]"
     ]
    },
    {
     "name": "stdout",
     "output_type": "stream",
     "text": [
      "time 87.48846244812012\n",
      "137 EPOCH TIME: 1.0 mins 27 sec\n"
     ]
    },
    {
     "name": "stderr",
     "output_type": "stream",
     "text": [
      "\n",
      "test model: 100%|██████████| 500/500 [00:38<00:00, 13.02it/s]\n"
     ]
    },
    {
     "name": "stdout",
     "output_type": "stream",
     "text": [
      "VALIDATION LOSSES ON EPOCH 137: tensor(1.4933)\n"
     ]
    },
    {
     "name": "stderr",
     "output_type": "stream",
     "text": [
      "train epoch 138: 100%|██████████| 1000/1000 [01:27<00:00, 11.37it/s]"
     ]
    },
    {
     "name": "stdout",
     "output_type": "stream",
     "text": [
      "time 87.92375540733337\n",
      "138 EPOCH TIME: 1.0 mins 28 sec\n"
     ]
    },
    {
     "name": "stderr",
     "output_type": "stream",
     "text": [
      "\n",
      "test model: 100%|██████████| 500/500 [00:38<00:00, 13.03it/s]\n"
     ]
    },
    {
     "name": "stdout",
     "output_type": "stream",
     "text": [
      "VALIDATION LOSSES ON EPOCH 138: tensor(1.4733)\n"
     ]
    },
    {
     "name": "stderr",
     "output_type": "stream",
     "text": [
      "train epoch 139: 100%|██████████| 1000/1000 [01:28<00:00, 11.35it/s]"
     ]
    },
    {
     "name": "stdout",
     "output_type": "stream",
     "text": [
      "time 88.09793019294739\n",
      "139 EPOCH TIME: 1.0 mins 28 sec\n"
     ]
    },
    {
     "name": "stderr",
     "output_type": "stream",
     "text": [
      "\n",
      "test model: 100%|██████████| 500/500 [00:37<00:00, 13.20it/s]\n"
     ]
    },
    {
     "name": "stdout",
     "output_type": "stream",
     "text": [
      "VALIDATION LOSSES ON EPOCH 139: tensor(1.5074)\n"
     ]
    },
    {
     "name": "stderr",
     "output_type": "stream",
     "text": [
      "train epoch 140: 100%|██████████| 1000/1000 [01:29<00:00, 11.19it/s]"
     ]
    },
    {
     "name": "stdout",
     "output_type": "stream",
     "text": [
      "time 89.36065459251404\n",
      "140 EPOCH TIME: 1.0 mins 29 sec\n"
     ]
    },
    {
     "name": "stderr",
     "output_type": "stream",
     "text": [
      "\n",
      "test model: 100%|██████████| 500/500 [00:37<00:00, 13.21it/s]\n"
     ]
    },
    {
     "name": "stdout",
     "output_type": "stream",
     "text": [
      "VALIDATION LOSSES ON EPOCH 140: tensor(1.4806)\n"
     ]
    },
    {
     "name": "stderr",
     "output_type": "stream",
     "text": [
      "train epoch 141: 100%|██████████| 1000/1000 [01:28<00:00, 11.28it/s]"
     ]
    },
    {
     "name": "stdout",
     "output_type": "stream",
     "text": [
      "time 88.63260889053345\n",
      "141 EPOCH TIME: 1.0 mins 29 sec\n"
     ]
    },
    {
     "name": "stderr",
     "output_type": "stream",
     "text": [
      "\n",
      "test model: 100%|██████████| 500/500 [00:38<00:00, 13.09it/s]\n"
     ]
    },
    {
     "name": "stdout",
     "output_type": "stream",
     "text": [
      "VALIDATION LOSSES ON EPOCH 141: tensor(1.5017)\n"
     ]
    },
    {
     "name": "stderr",
     "output_type": "stream",
     "text": [
      "train epoch 142: 100%|██████████| 1000/1000 [01:27<00:00, 11.42it/s]"
     ]
    },
    {
     "name": "stdout",
     "output_type": "stream",
     "text": [
      "time 87.56630778312683\n",
      "142 EPOCH TIME: 1.0 mins 28 sec\n"
     ]
    },
    {
     "name": "stderr",
     "output_type": "stream",
     "text": [
      "\n",
      "test model: 100%|██████████| 500/500 [00:38<00:00, 12.91it/s]\n"
     ]
    },
    {
     "name": "stdout",
     "output_type": "stream",
     "text": [
      "VALIDATION LOSSES ON EPOCH 142: tensor(1.4884)\n"
     ]
    },
    {
     "name": "stderr",
     "output_type": "stream",
     "text": [
      "train epoch 143: 100%|██████████| 1000/1000 [01:28<00:00, 11.34it/s]"
     ]
    },
    {
     "name": "stdout",
     "output_type": "stream",
     "text": [
      "time 88.16935753822327\n",
      "143 EPOCH TIME: 1.0 mins 28 sec\n"
     ]
    },
    {
     "name": "stderr",
     "output_type": "stream",
     "text": [
      "\n",
      "test model: 100%|██████████| 500/500 [00:38<00:00, 13.08it/s]\n"
     ]
    },
    {
     "name": "stdout",
     "output_type": "stream",
     "text": [
      "VALIDATION LOSSES ON EPOCH 143: tensor(1.5314)\n"
     ]
    },
    {
     "name": "stderr",
     "output_type": "stream",
     "text": [
      "train epoch 144: 100%|██████████| 1000/1000 [01:29<00:00, 11.17it/s]"
     ]
    },
    {
     "name": "stdout",
     "output_type": "stream",
     "text": [
      "time 89.48862051963806\n",
      "144 EPOCH TIME: 1.0 mins 29 sec\n"
     ]
    },
    {
     "name": "stderr",
     "output_type": "stream",
     "text": [
      "\n",
      "test model: 100%|██████████| 500/500 [00:38<00:00, 13.12it/s]\n"
     ]
    },
    {
     "name": "stdout",
     "output_type": "stream",
     "text": [
      "VALIDATION LOSSES ON EPOCH 144: tensor(1.5063)\n"
     ]
    },
    {
     "name": "stderr",
     "output_type": "stream",
     "text": [
      "train epoch 145: 100%|██████████| 1000/1000 [01:29<00:00, 11.15it/s]"
     ]
    },
    {
     "name": "stdout",
     "output_type": "stream",
     "text": [
      "time 89.69416427612305\n",
      "145 EPOCH TIME: 1.0 mins 30 sec\n"
     ]
    },
    {
     "name": "stderr",
     "output_type": "stream",
     "text": [
      "\n",
      "test model: 100%|██████████| 500/500 [00:38<00:00, 13.08it/s]\n"
     ]
    },
    {
     "name": "stdout",
     "output_type": "stream",
     "text": [
      "VALIDATION LOSSES ON EPOCH 145: tensor(1.5572)\n"
     ]
    },
    {
     "name": "stderr",
     "output_type": "stream",
     "text": [
      "train epoch 146: 100%|██████████| 1000/1000 [01:29<00:00, 11.21it/s]"
     ]
    },
    {
     "name": "stdout",
     "output_type": "stream",
     "text": [
      "time 89.24053287506104\n",
      "146 EPOCH TIME: 1.0 mins 29 sec\n"
     ]
    },
    {
     "name": "stderr",
     "output_type": "stream",
     "text": [
      "\n",
      "test model: 100%|██████████| 500/500 [00:38<00:00, 13.16it/s]\n"
     ]
    },
    {
     "name": "stdout",
     "output_type": "stream",
     "text": [
      "VALIDATION LOSSES ON EPOCH 146: tensor(1.4991)\n"
     ]
    },
    {
     "name": "stderr",
     "output_type": "stream",
     "text": [
      "train epoch 147: 100%|██████████| 1000/1000 [01:28<00:00, 11.33it/s]"
     ]
    },
    {
     "name": "stdout",
     "output_type": "stream",
     "text": [
      "time 88.28202724456787\n",
      "147 EPOCH TIME: 1.0 mins 28 sec\n"
     ]
    },
    {
     "name": "stderr",
     "output_type": "stream",
     "text": [
      "\n",
      "test model: 100%|██████████| 500/500 [00:37<00:00, 13.23it/s]\n"
     ]
    },
    {
     "name": "stdout",
     "output_type": "stream",
     "text": [
      "VALIDATION LOSSES ON EPOCH 147: tensor(1.5066)\n"
     ]
    },
    {
     "name": "stderr",
     "output_type": "stream",
     "text": [
      "train epoch 148: 100%|██████████| 1000/1000 [01:27<00:00, 11.41it/s]"
     ]
    },
    {
     "name": "stdout",
     "output_type": "stream",
     "text": [
      "time 87.66532969474792\n",
      "148 EPOCH TIME: 1.0 mins 28 sec\n"
     ]
    },
    {
     "name": "stderr",
     "output_type": "stream",
     "text": [
      "\n",
      "test model: 100%|██████████| 500/500 [00:38<00:00, 13.15it/s]\n"
     ]
    },
    {
     "name": "stdout",
     "output_type": "stream",
     "text": [
      "VALIDATION LOSSES ON EPOCH 148: tensor(1.5933)\n"
     ]
    },
    {
     "name": "stderr",
     "output_type": "stream",
     "text": [
      "train epoch 149: 100%|██████████| 1000/1000 [01:28<00:00, 11.27it/s]"
     ]
    },
    {
     "name": "stdout",
     "output_type": "stream",
     "text": [
      "time 88.72583341598511\n",
      "149 EPOCH TIME: 1.0 mins 29 sec\n"
     ]
    },
    {
     "name": "stderr",
     "output_type": "stream",
     "text": [
      "\n",
      "test model: 100%|██████████| 500/500 [00:37<00:00, 13.18it/s]\n"
     ]
    },
    {
     "name": "stdout",
     "output_type": "stream",
     "text": [
      "VALIDATION LOSSES ON EPOCH 149: tensor(1.5373)\n"
     ]
    },
    {
     "name": "stderr",
     "output_type": "stream",
     "text": [
      "train epoch 150: 100%|██████████| 1000/1000 [01:27<00:00, 11.42it/s]"
     ]
    },
    {
     "name": "stdout",
     "output_type": "stream",
     "text": [
      "time 87.53276014328003\n",
      "150 EPOCH TIME: 1.0 mins 28 sec\n"
     ]
    },
    {
     "name": "stderr",
     "output_type": "stream",
     "text": [
      "\n",
      "test model: 100%|██████████| 500/500 [00:38<00:00, 13.09it/s]\n"
     ]
    },
    {
     "name": "stdout",
     "output_type": "stream",
     "text": [
      "VALIDATION LOSSES ON EPOCH 150: tensor(1.5007)\n"
     ]
    },
    {
     "name": "stderr",
     "output_type": "stream",
     "text": [
      "train epoch 151: 100%|██████████| 1000/1000 [01:27<00:00, 11.43it/s]"
     ]
    },
    {
     "name": "stdout",
     "output_type": "stream",
     "text": [
      "time 87.4728729724884\n",
      "151 EPOCH TIME: 1.0 mins 27 sec\n"
     ]
    },
    {
     "name": "stderr",
     "output_type": "stream",
     "text": [
      "\n",
      "test model: 100%|██████████| 500/500 [00:37<00:00, 13.33it/s]\n"
     ]
    },
    {
     "name": "stdout",
     "output_type": "stream",
     "text": [
      "VALIDATION LOSSES ON EPOCH 151: tensor(1.5174)\n"
     ]
    },
    {
     "name": "stderr",
     "output_type": "stream",
     "text": [
      "train epoch 152: 100%|██████████| 1000/1000 [01:28<00:00, 11.28it/s]"
     ]
    },
    {
     "name": "stdout",
     "output_type": "stream",
     "text": [
      "time 88.6924238204956\n",
      "152 EPOCH TIME: 1.0 mins 29 sec\n"
     ]
    },
    {
     "name": "stderr",
     "output_type": "stream",
     "text": [
      "\n",
      "test model: 100%|██████████| 500/500 [00:37<00:00, 13.20it/s]\n"
     ]
    },
    {
     "name": "stdout",
     "output_type": "stream",
     "text": [
      "VALIDATION LOSSES ON EPOCH 152: tensor(1.7871)\n"
     ]
    },
    {
     "name": "stderr",
     "output_type": "stream",
     "text": [
      "train epoch 153: 100%|██████████| 1000/1000 [01:28<00:00, 11.24it/s]"
     ]
    },
    {
     "name": "stdout",
     "output_type": "stream",
     "text": [
      "time 88.97460126876831\n",
      "153 EPOCH TIME: 1.0 mins 29 sec\n"
     ]
    },
    {
     "name": "stderr",
     "output_type": "stream",
     "text": [
      "\n",
      "test model: 100%|██████████| 500/500 [00:37<00:00, 13.29it/s]\n"
     ]
    },
    {
     "name": "stdout",
     "output_type": "stream",
     "text": [
      "VALIDATION LOSSES ON EPOCH 153: tensor(1.5984)\n"
     ]
    },
    {
     "name": "stderr",
     "output_type": "stream",
     "text": [
      "train epoch 154: 100%|██████████| 1000/1000 [01:28<00:00, 11.32it/s]\n"
     ]
    },
    {
     "name": "stdout",
     "output_type": "stream",
     "text": [
      "time 88.37726712226868\n",
      "154 EPOCH TIME: 1.0 mins 28 sec\n"
     ]
    },
    {
     "name": "stderr",
     "output_type": "stream",
     "text": [
      "test model: 100%|██████████| 500/500 [00:37<00:00, 13.26it/s]\n"
     ]
    },
    {
     "name": "stdout",
     "output_type": "stream",
     "text": [
      "VALIDATION LOSSES ON EPOCH 154: tensor(1.4812)\n"
     ]
    },
    {
     "name": "stderr",
     "output_type": "stream",
     "text": [
      "train epoch 155: 100%|██████████| 1000/1000 [01:27<00:00, 11.44it/s]"
     ]
    },
    {
     "name": "stdout",
     "output_type": "stream",
     "text": [
      "time 87.43046474456787\n",
      "155 EPOCH TIME: 1.0 mins 27 sec\n"
     ]
    },
    {
     "name": "stderr",
     "output_type": "stream",
     "text": [
      "\n",
      "test model: 100%|██████████| 500/500 [00:37<00:00, 13.19it/s]\n"
     ]
    },
    {
     "name": "stdout",
     "output_type": "stream",
     "text": [
      "VALIDATION LOSSES ON EPOCH 155: tensor(1.6070)\n"
     ]
    },
    {
     "name": "stderr",
     "output_type": "stream",
     "text": [
      "train epoch 156: 100%|██████████| 1000/1000 [01:28<00:00, 11.27it/s]"
     ]
    },
    {
     "name": "stdout",
     "output_type": "stream",
     "text": [
      "time 88.73187518119812\n",
      "156 EPOCH TIME: 1.0 mins 29 sec\n"
     ]
    },
    {
     "name": "stderr",
     "output_type": "stream",
     "text": [
      "\n",
      "test model: 100%|██████████| 500/500 [00:38<00:00, 13.11it/s]\n"
     ]
    },
    {
     "name": "stdout",
     "output_type": "stream",
     "text": [
      "VALIDATION LOSSES ON EPOCH 156: tensor(1.5303)\n"
     ]
    },
    {
     "name": "stderr",
     "output_type": "stream",
     "text": [
      "train epoch 157: 100%|██████████| 1000/1000 [01:28<00:00, 11.24it/s]"
     ]
    },
    {
     "name": "stdout",
     "output_type": "stream",
     "text": [
      "time 88.94153141975403\n",
      "157 EPOCH TIME: 1.0 mins 29 sec\n"
     ]
    },
    {
     "name": "stderr",
     "output_type": "stream",
     "text": [
      "\n",
      "test model: 100%|██████████| 500/500 [00:37<00:00, 13.26it/s]\n"
     ]
    },
    {
     "name": "stdout",
     "output_type": "stream",
     "text": [
      "VALIDATION LOSSES ON EPOCH 157: tensor(1.4737)\n"
     ]
    },
    {
     "name": "stderr",
     "output_type": "stream",
     "text": [
      "train epoch 158: 100%|██████████| 1000/1000 [01:27<00:00, 11.39it/s]"
     ]
    },
    {
     "name": "stdout",
     "output_type": "stream",
     "text": [
      "time 87.816725730896\n",
      "158 EPOCH TIME: 1.0 mins 28 sec\n"
     ]
    },
    {
     "name": "stderr",
     "output_type": "stream",
     "text": [
      "\n",
      "test model: 100%|██████████| 500/500 [00:38<00:00, 13.08it/s]\n"
     ]
    },
    {
     "name": "stdout",
     "output_type": "stream",
     "text": [
      "VALIDATION LOSSES ON EPOCH 158: tensor(1.4629)\n"
     ]
    },
    {
     "name": "stderr",
     "output_type": "stream",
     "text": [
      "train epoch 159: 100%|██████████| 1000/1000 [01:27<00:00, 11.49it/s]"
     ]
    },
    {
     "name": "stdout",
     "output_type": "stream",
     "text": [
      "time 87.02362561225891\n",
      "159 EPOCH TIME: 1.0 mins 27 sec\n"
     ]
    },
    {
     "name": "stderr",
     "output_type": "stream",
     "text": [
      "\n",
      "test model: 100%|██████████| 500/500 [00:38<00:00, 13.12it/s]\n"
     ]
    },
    {
     "name": "stdout",
     "output_type": "stream",
     "text": [
      "VALIDATION LOSSES ON EPOCH 159: tensor(1.5242)\n"
     ]
    },
    {
     "name": "stderr",
     "output_type": "stream",
     "text": [
      "train epoch 160: 100%|██████████| 1000/1000 [01:27<00:00, 11.43it/s]"
     ]
    },
    {
     "name": "stdout",
     "output_type": "stream",
     "text": [
      "time 87.50920724868774\n",
      "160 EPOCH TIME: 1.0 mins 28 sec\n"
     ]
    },
    {
     "name": "stderr",
     "output_type": "stream",
     "text": [
      "\n",
      "test model: 100%|██████████| 500/500 [00:37<00:00, 13.20it/s]\n"
     ]
    },
    {
     "name": "stdout",
     "output_type": "stream",
     "text": [
      "VALIDATION LOSSES ON EPOCH 160: tensor(1.5518)\n"
     ]
    },
    {
     "name": "stderr",
     "output_type": "stream",
     "text": [
      "train epoch 161: 100%|██████████| 1000/1000 [01:27<00:00, 11.40it/s]\n"
     ]
    },
    {
     "name": "stdout",
     "output_type": "stream",
     "text": [
      "time 87.70611929893494\n",
      "161 EPOCH TIME: 1.0 mins 28 sec\n"
     ]
    },
    {
     "name": "stderr",
     "output_type": "stream",
     "text": [
      "test model: 100%|██████████| 500/500 [00:38<00:00, 13.03it/s]\n"
     ]
    },
    {
     "name": "stdout",
     "output_type": "stream",
     "text": [
      "VALIDATION LOSSES ON EPOCH 161: tensor(1.6496)\n"
     ]
    },
    {
     "name": "stderr",
     "output_type": "stream",
     "text": [
      "train epoch 162: 100%|██████████| 1000/1000 [01:27<00:00, 11.42it/s]"
     ]
    },
    {
     "name": "stdout",
     "output_type": "stream",
     "text": [
      "time 87.5680775642395\n",
      "162 EPOCH TIME: 1.0 mins 28 sec\n"
     ]
    },
    {
     "name": "stderr",
     "output_type": "stream",
     "text": [
      "\n",
      "test model: 100%|██████████| 500/500 [00:38<00:00, 13.12it/s]\n"
     ]
    },
    {
     "name": "stdout",
     "output_type": "stream",
     "text": [
      "VALIDATION LOSSES ON EPOCH 162: tensor(1.5554)\n"
     ]
    },
    {
     "name": "stderr",
     "output_type": "stream",
     "text": [
      "train epoch 163: 100%|██████████| 1000/1000 [01:27<00:00, 11.40it/s]"
     ]
    },
    {
     "name": "stdout",
     "output_type": "stream",
     "text": [
      "time 87.75820875167847\n",
      "163 EPOCH TIME: 1.0 mins 28 sec\n"
     ]
    },
    {
     "name": "stderr",
     "output_type": "stream",
     "text": [
      "\n",
      "test model: 100%|██████████| 500/500 [00:37<00:00, 13.25it/s]\n"
     ]
    },
    {
     "name": "stdout",
     "output_type": "stream",
     "text": [
      "VALIDATION LOSSES ON EPOCH 163: tensor(1.5095)\n"
     ]
    },
    {
     "name": "stderr",
     "output_type": "stream",
     "text": [
      "train epoch 164: 100%|██████████| 1000/1000 [01:28<00:00, 11.29it/s]"
     ]
    },
    {
     "name": "stdout",
     "output_type": "stream",
     "text": [
      "time 88.58160948753357\n",
      "164 EPOCH TIME: 1.0 mins 29 sec\n"
     ]
    },
    {
     "name": "stderr",
     "output_type": "stream",
     "text": [
      "\n",
      "test model: 100%|██████████| 500/500 [00:38<00:00, 13.09it/s]\n"
     ]
    },
    {
     "name": "stdout",
     "output_type": "stream",
     "text": [
      "VALIDATION LOSSES ON EPOCH 164: tensor(1.4899)\n"
     ]
    },
    {
     "name": "stderr",
     "output_type": "stream",
     "text": [
      "train epoch 165: 100%|██████████| 1000/1000 [01:27<00:00, 11.39it/s]"
     ]
    },
    {
     "name": "stdout",
     "output_type": "stream",
     "text": [
      "time 87.82167601585388\n",
      "165 EPOCH TIME: 1.0 mins 28 sec\n"
     ]
    },
    {
     "name": "stderr",
     "output_type": "stream",
     "text": [
      "\n",
      "test model: 100%|██████████| 500/500 [00:37<00:00, 13.26it/s]\n"
     ]
    },
    {
     "name": "stdout",
     "output_type": "stream",
     "text": [
      "VALIDATION LOSSES ON EPOCH 165: tensor(1.5028)\n"
     ]
    },
    {
     "name": "stderr",
     "output_type": "stream",
     "text": [
      "train epoch 166: 100%|██████████| 1000/1000 [01:27<00:00, 11.47it/s]"
     ]
    },
    {
     "name": "stdout",
     "output_type": "stream",
     "text": [
      "time 87.19478678703308\n",
      "166 EPOCH TIME: 1.0 mins 27 sec\n"
     ]
    },
    {
     "name": "stderr",
     "output_type": "stream",
     "text": [
      "\n",
      "test model: 100%|██████████| 500/500 [00:37<00:00, 13.16it/s]\n"
     ]
    },
    {
     "name": "stdout",
     "output_type": "stream",
     "text": [
      "VALIDATION LOSSES ON EPOCH 166: tensor(1.4717)\n"
     ]
    },
    {
     "name": "stderr",
     "output_type": "stream",
     "text": [
      "train epoch 167: 100%|██████████| 1000/1000 [01:29<00:00, 11.22it/s]"
     ]
    },
    {
     "name": "stdout",
     "output_type": "stream",
     "text": [
      "time 89.14443731307983\n",
      "167 EPOCH TIME: 1.0 mins 29 sec\n"
     ]
    },
    {
     "name": "stderr",
     "output_type": "stream",
     "text": [
      "\n",
      "test model: 100%|██████████| 500/500 [00:38<00:00, 13.12it/s]\n"
     ]
    },
    {
     "name": "stdout",
     "output_type": "stream",
     "text": [
      "VALIDATION LOSSES ON EPOCH 167: tensor(1.6168)\n"
     ]
    },
    {
     "name": "stderr",
     "output_type": "stream",
     "text": [
      "train epoch 168: 100%|██████████| 1000/1000 [01:27<00:00, 11.47it/s]"
     ]
    },
    {
     "name": "stdout",
     "output_type": "stream",
     "text": [
      "time 87.18737816810608\n",
      "168 EPOCH TIME: 1.0 mins 27 sec\n"
     ]
    },
    {
     "name": "stderr",
     "output_type": "stream",
     "text": [
      "\n",
      "test model: 100%|██████████| 500/500 [00:37<00:00, 13.27it/s]\n"
     ]
    },
    {
     "name": "stdout",
     "output_type": "stream",
     "text": [
      "VALIDATION LOSSES ON EPOCH 168: tensor(1.5432)\n"
     ]
    },
    {
     "name": "stderr",
     "output_type": "stream",
     "text": [
      "train epoch 169: 100%|██████████| 1000/1000 [01:27<00:00, 11.47it/s]"
     ]
    },
    {
     "name": "stdout",
     "output_type": "stream",
     "text": [
      "time 87.20533990859985\n",
      "169 EPOCH TIME: 1.0 mins 27 sec\n"
     ]
    },
    {
     "name": "stderr",
     "output_type": "stream",
     "text": [
      "\n",
      "test model: 100%|██████████| 500/500 [00:37<00:00, 13.21it/s]\n"
     ]
    },
    {
     "name": "stdout",
     "output_type": "stream",
     "text": [
      "VALIDATION LOSSES ON EPOCH 169: tensor(1.7670)\n"
     ]
    },
    {
     "name": "stderr",
     "output_type": "stream",
     "text": [
      "train epoch 170: 100%|██████████| 1000/1000 [01:27<00:00, 11.41it/s]"
     ]
    },
    {
     "name": "stdout",
     "output_type": "stream",
     "text": [
      "time 87.66211986541748\n",
      "170 EPOCH TIME: 1.0 mins 28 sec\n"
     ]
    },
    {
     "name": "stderr",
     "output_type": "stream",
     "text": [
      "\n",
      "test model: 100%|██████████| 500/500 [00:38<00:00, 13.13it/s]\n"
     ]
    },
    {
     "name": "stdout",
     "output_type": "stream",
     "text": [
      "VALIDATION LOSSES ON EPOCH 170: tensor(1.5814)\n"
     ]
    },
    {
     "name": "stderr",
     "output_type": "stream",
     "text": [
      "train epoch 171: 100%|██████████| 1000/1000 [01:27<00:00, 11.39it/s]"
     ]
    },
    {
     "name": "stdout",
     "output_type": "stream",
     "text": [
      "time 87.77409195899963\n",
      "171 EPOCH TIME: 1.0 mins 28 sec\n"
     ]
    },
    {
     "name": "stderr",
     "output_type": "stream",
     "text": [
      "\n",
      "test model: 100%|██████████| 500/500 [00:37<00:00, 13.20it/s]\n"
     ]
    },
    {
     "name": "stdout",
     "output_type": "stream",
     "text": [
      "VALIDATION LOSSES ON EPOCH 171: tensor(1.5802)\n"
     ]
    },
    {
     "name": "stderr",
     "output_type": "stream",
     "text": [
      "train epoch 172: 100%|██████████| 1000/1000 [01:27<00:00, 11.40it/s]"
     ]
    },
    {
     "name": "stdout",
     "output_type": "stream",
     "text": [
      "time 87.72352647781372\n",
      "172 EPOCH TIME: 1.0 mins 28 sec\n"
     ]
    },
    {
     "name": "stderr",
     "output_type": "stream",
     "text": [
      "\n",
      "test model: 100%|██████████| 500/500 [00:38<00:00, 13.15it/s]\n"
     ]
    },
    {
     "name": "stdout",
     "output_type": "stream",
     "text": [
      "VALIDATION LOSSES ON EPOCH 172: tensor(1.4745)\n"
     ]
    },
    {
     "name": "stderr",
     "output_type": "stream",
     "text": [
      "train epoch 173: 100%|██████████| 1000/1000 [01:28<00:00, 11.24it/s]"
     ]
    },
    {
     "name": "stdout",
     "output_type": "stream",
     "text": [
      "time 88.99503087997437\n",
      "173 EPOCH TIME: 1.0 mins 29 sec\n"
     ]
    },
    {
     "name": "stderr",
     "output_type": "stream",
     "text": [
      "\n",
      "test model: 100%|██████████| 500/500 [00:38<00:00, 13.10it/s]\n"
     ]
    },
    {
     "name": "stdout",
     "output_type": "stream",
     "text": [
      "VALIDATION LOSSES ON EPOCH 173: tensor(1.6601)\n"
     ]
    },
    {
     "name": "stderr",
     "output_type": "stream",
     "text": [
      "train epoch 174: 100%|██████████| 1000/1000 [01:29<00:00, 11.22it/s]"
     ]
    },
    {
     "name": "stdout",
     "output_type": "stream",
     "text": [
      "time 89.09716272354126\n",
      "174 EPOCH TIME: 1.0 mins 29 sec\n"
     ]
    },
    {
     "name": "stderr",
     "output_type": "stream",
     "text": [
      "\n",
      "test model: 100%|██████████| 500/500 [00:38<00:00, 13.06it/s]\n"
     ]
    },
    {
     "name": "stdout",
     "output_type": "stream",
     "text": [
      "VALIDATION LOSSES ON EPOCH 174: tensor(1.4664)\n"
     ]
    },
    {
     "name": "stderr",
     "output_type": "stream",
     "text": [
      "train epoch 175: 100%|██████████| 1000/1000 [01:29<00:00, 11.20it/s]"
     ]
    },
    {
     "name": "stdout",
     "output_type": "stream",
     "text": [
      "time 89.30049061775208\n",
      "175 EPOCH TIME: 1.0 mins 29 sec\n"
     ]
    },
    {
     "name": "stderr",
     "output_type": "stream",
     "text": [
      "\n",
      "test model: 100%|██████████| 500/500 [00:38<00:00, 13.15it/s]\n"
     ]
    },
    {
     "name": "stdout",
     "output_type": "stream",
     "text": [
      "VALIDATION LOSSES ON EPOCH 175: tensor(1.5145)\n"
     ]
    },
    {
     "name": "stderr",
     "output_type": "stream",
     "text": [
      "train epoch 176: 100%|██████████| 1000/1000 [01:28<00:00, 11.25it/s]"
     ]
    },
    {
     "name": "stdout",
     "output_type": "stream",
     "text": [
      "time 88.90434145927429\n",
      "176 EPOCH TIME: 1.0 mins 29 sec\n"
     ]
    },
    {
     "name": "stderr",
     "output_type": "stream",
     "text": [
      "\n",
      "test model: 100%|██████████| 500/500 [00:37<00:00, 13.25it/s]\n"
     ]
    },
    {
     "name": "stdout",
     "output_type": "stream",
     "text": [
      "VALIDATION LOSSES ON EPOCH 176: tensor(1.5075)\n"
     ]
    },
    {
     "name": "stderr",
     "output_type": "stream",
     "text": [
      "train epoch 177: 100%|██████████| 1000/1000 [01:28<00:00, 11.26it/s]"
     ]
    },
    {
     "name": "stdout",
     "output_type": "stream",
     "text": [
      "time 88.84043598175049\n",
      "177 EPOCH TIME: 1.0 mins 29 sec\n"
     ]
    },
    {
     "name": "stderr",
     "output_type": "stream",
     "text": [
      "\n",
      "test model: 100%|██████████| 500/500 [00:38<00:00, 13.02it/s]\n"
     ]
    },
    {
     "name": "stdout",
     "output_type": "stream",
     "text": [
      "VALIDATION LOSSES ON EPOCH 177: tensor(1.4289)\n",
      "NEW BEST!\n"
     ]
    },
    {
     "name": "stderr",
     "output_type": "stream",
     "text": [
      "train epoch 178: 100%|██████████| 1000/1000 [01:27<00:00, 11.38it/s]"
     ]
    },
    {
     "name": "stdout",
     "output_type": "stream",
     "text": [
      "time 87.88870000839233\n",
      "178 EPOCH TIME: 1.0 mins 28 sec\n"
     ]
    },
    {
     "name": "stderr",
     "output_type": "stream",
     "text": [
      "\n",
      "test model: 100%|██████████| 500/500 [00:38<00:00, 13.07it/s]\n"
     ]
    },
    {
     "name": "stdout",
     "output_type": "stream",
     "text": [
      "VALIDATION LOSSES ON EPOCH 178: tensor(1.5401)\n"
     ]
    },
    {
     "name": "stderr",
     "output_type": "stream",
     "text": [
      "train epoch 179: 100%|██████████| 1000/1000 [01:27<00:00, 11.39it/s]"
     ]
    },
    {
     "name": "stdout",
     "output_type": "stream",
     "text": [
      "time 87.8238685131073\n",
      "179 EPOCH TIME: 1.0 mins 28 sec\n"
     ]
    },
    {
     "name": "stderr",
     "output_type": "stream",
     "text": [
      "\n",
      "test model: 100%|██████████| 500/500 [00:38<00:00, 13.10it/s]\n"
     ]
    },
    {
     "name": "stdout",
     "output_type": "stream",
     "text": [
      "VALIDATION LOSSES ON EPOCH 179: tensor(1.4665)\n"
     ]
    },
    {
     "name": "stderr",
     "output_type": "stream",
     "text": [
      "train epoch 180: 100%|██████████| 1000/1000 [01:27<00:00, 11.38it/s]"
     ]
    },
    {
     "name": "stdout",
     "output_type": "stream",
     "text": [
      "time 87.88956665992737\n",
      "180 EPOCH TIME: 1.0 mins 28 sec\n"
     ]
    },
    {
     "name": "stderr",
     "output_type": "stream",
     "text": [
      "\n",
      "test model: 100%|██████████| 500/500 [00:37<00:00, 13.23it/s]\n"
     ]
    },
    {
     "name": "stdout",
     "output_type": "stream",
     "text": [
      "VALIDATION LOSSES ON EPOCH 180: tensor(1.5404)\n"
     ]
    },
    {
     "name": "stderr",
     "output_type": "stream",
     "text": [
      "train epoch 181: 100%|██████████| 1000/1000 [01:27<00:00, 11.38it/s]"
     ]
    },
    {
     "name": "stdout",
     "output_type": "stream",
     "text": [
      "time 87.84013843536377\n",
      "181 EPOCH TIME: 1.0 mins 28 sec\n"
     ]
    },
    {
     "name": "stderr",
     "output_type": "stream",
     "text": [
      "\n",
      "test model: 100%|██████████| 500/500 [00:37<00:00, 13.19it/s]\n"
     ]
    },
    {
     "name": "stdout",
     "output_type": "stream",
     "text": [
      "VALIDATION LOSSES ON EPOCH 181: tensor(1.4570)\n"
     ]
    },
    {
     "name": "stderr",
     "output_type": "stream",
     "text": [
      "train epoch 182: 100%|██████████| 1000/1000 [01:27<00:00, 11.41it/s]"
     ]
    },
    {
     "name": "stdout",
     "output_type": "stream",
     "text": [
      "time 87.67879295349121\n",
      "182 EPOCH TIME: 1.0 mins 28 sec\n"
     ]
    },
    {
     "name": "stderr",
     "output_type": "stream",
     "text": [
      "\n",
      "test model: 100%|██████████| 500/500 [00:37<00:00, 13.32it/s]\n"
     ]
    },
    {
     "name": "stdout",
     "output_type": "stream",
     "text": [
      "VALIDATION LOSSES ON EPOCH 182: tensor(1.6677)\n"
     ]
    },
    {
     "name": "stderr",
     "output_type": "stream",
     "text": [
      "train epoch 183: 100%|██████████| 1000/1000 [01:28<00:00, 11.24it/s]"
     ]
    },
    {
     "name": "stdout",
     "output_type": "stream",
     "text": [
      "time 88.93911695480347\n",
      "183 EPOCH TIME: 1.0 mins 29 sec\n"
     ]
    },
    {
     "name": "stderr",
     "output_type": "stream",
     "text": [
      "\n",
      "test model: 100%|██████████| 500/500 [00:37<00:00, 13.18it/s]\n"
     ]
    },
    {
     "name": "stdout",
     "output_type": "stream",
     "text": [
      "VALIDATION LOSSES ON EPOCH 183: tensor(1.5151)\n"
     ]
    },
    {
     "name": "stderr",
     "output_type": "stream",
     "text": [
      "train epoch 184: 100%|██████████| 1000/1000 [01:28<00:00, 11.30it/s]"
     ]
    },
    {
     "name": "stdout",
     "output_type": "stream",
     "text": [
      "time 88.45945191383362\n",
      "184 EPOCH TIME: 1.0 mins 28 sec\n"
     ]
    },
    {
     "name": "stderr",
     "output_type": "stream",
     "text": [
      "\n",
      "test model: 100%|██████████| 500/500 [00:37<00:00, 13.18it/s]\n"
     ]
    },
    {
     "name": "stdout",
     "output_type": "stream",
     "text": [
      "VALIDATION LOSSES ON EPOCH 184: tensor(1.6520)\n"
     ]
    },
    {
     "name": "stderr",
     "output_type": "stream",
     "text": [
      "train epoch 185: 100%|██████████| 1000/1000 [01:27<00:00, 11.44it/s]"
     ]
    },
    {
     "name": "stdout",
     "output_type": "stream",
     "text": [
      "time 87.42977452278137\n",
      "185 EPOCH TIME: 1.0 mins 27 sec\n"
     ]
    },
    {
     "name": "stderr",
     "output_type": "stream",
     "text": [
      "\n",
      "test model: 100%|██████████| 500/500 [00:38<00:00, 13.13it/s]\n"
     ]
    },
    {
     "name": "stdout",
     "output_type": "stream",
     "text": [
      "VALIDATION LOSSES ON EPOCH 185: tensor(1.6190)\n"
     ]
    },
    {
     "name": "stderr",
     "output_type": "stream",
     "text": [
      "train epoch 186: 100%|██████████| 1000/1000 [01:28<00:00, 11.26it/s]"
     ]
    },
    {
     "name": "stdout",
     "output_type": "stream",
     "text": [
      "time 88.85060405731201\n",
      "186 EPOCH TIME: 1.0 mins 29 sec\n"
     ]
    },
    {
     "name": "stderr",
     "output_type": "stream",
     "text": [
      "\n",
      "test model: 100%|██████████| 500/500 [00:37<00:00, 13.27it/s]\n"
     ]
    },
    {
     "name": "stdout",
     "output_type": "stream",
     "text": [
      "VALIDATION LOSSES ON EPOCH 186: tensor(1.4772)\n"
     ]
    },
    {
     "name": "stderr",
     "output_type": "stream",
     "text": [
      "train epoch 187: 100%|██████████| 1000/1000 [01:28<00:00, 11.34it/s]"
     ]
    },
    {
     "name": "stdout",
     "output_type": "stream",
     "text": [
      "time 88.20011901855469\n",
      "187 EPOCH TIME: 1.0 mins 28 sec\n"
     ]
    },
    {
     "name": "stderr",
     "output_type": "stream",
     "text": [
      "\n",
      "test model: 100%|██████████| 500/500 [00:37<00:00, 13.31it/s]\n"
     ]
    },
    {
     "name": "stdout",
     "output_type": "stream",
     "text": [
      "VALIDATION LOSSES ON EPOCH 187: tensor(1.5659)\n"
     ]
    },
    {
     "name": "stderr",
     "output_type": "stream",
     "text": [
      "train epoch 188: 100%|██████████| 1000/1000 [01:27<00:00, 11.39it/s]"
     ]
    },
    {
     "name": "stdout",
     "output_type": "stream",
     "text": [
      "time 87.77556681632996\n",
      "188 EPOCH TIME: 1.0 mins 28 sec\n"
     ]
    },
    {
     "name": "stderr",
     "output_type": "stream",
     "text": [
      "\n",
      "test model: 100%|██████████| 500/500 [00:37<00:00, 13.36it/s]\n"
     ]
    },
    {
     "name": "stdout",
     "output_type": "stream",
     "text": [
      "VALIDATION LOSSES ON EPOCH 188: tensor(1.5867)\n"
     ]
    },
    {
     "name": "stderr",
     "output_type": "stream",
     "text": [
      "train epoch 189: 100%|██████████| 1000/1000 [01:28<00:00, 11.35it/s]"
     ]
    },
    {
     "name": "stdout",
     "output_type": "stream",
     "text": [
      "time 88.09626960754395\n",
      "189 EPOCH TIME: 1.0 mins 28 sec\n"
     ]
    },
    {
     "name": "stderr",
     "output_type": "stream",
     "text": [
      "\n",
      "test model: 100%|██████████| 500/500 [00:37<00:00, 13.16it/s]\n"
     ]
    },
    {
     "name": "stdout",
     "output_type": "stream",
     "text": [
      "VALIDATION LOSSES ON EPOCH 189: tensor(1.4805)\n"
     ]
    },
    {
     "name": "stderr",
     "output_type": "stream",
     "text": [
      "train epoch 190: 100%|██████████| 1000/1000 [01:28<00:00, 11.25it/s]"
     ]
    },
    {
     "name": "stdout",
     "output_type": "stream",
     "text": [
      "time 88.92822909355164\n",
      "190 EPOCH TIME: 1.0 mins 29 sec\n"
     ]
    },
    {
     "name": "stderr",
     "output_type": "stream",
     "text": [
      "\n",
      "test model: 100%|██████████| 500/500 [00:38<00:00, 13.06it/s]\n"
     ]
    },
    {
     "name": "stdout",
     "output_type": "stream",
     "text": [
      "VALIDATION LOSSES ON EPOCH 190: tensor(1.5479)\n"
     ]
    },
    {
     "name": "stderr",
     "output_type": "stream",
     "text": [
      "train epoch 191: 100%|██████████| 1000/1000 [01:28<00:00, 11.25it/s]"
     ]
    },
    {
     "name": "stdout",
     "output_type": "stream",
     "text": [
      "time 88.90514159202576\n",
      "191 EPOCH TIME: 1.0 mins 29 sec\n"
     ]
    },
    {
     "name": "stderr",
     "output_type": "stream",
     "text": [
      "\n",
      "test model: 100%|██████████| 500/500 [00:38<00:00, 13.10it/s]\n"
     ]
    },
    {
     "name": "stdout",
     "output_type": "stream",
     "text": [
      "VALIDATION LOSSES ON EPOCH 191: tensor(1.5455)\n"
     ]
    },
    {
     "name": "stderr",
     "output_type": "stream",
     "text": [
      "train epoch 192: 100%|██████████| 1000/1000 [01:27<00:00, 11.47it/s]"
     ]
    },
    {
     "name": "stdout",
     "output_type": "stream",
     "text": [
      "time 87.18403768539429\n",
      "192 EPOCH TIME: 1.0 mins 27 sec\n"
     ]
    },
    {
     "name": "stderr",
     "output_type": "stream",
     "text": [
      "\n",
      "test model: 100%|██████████| 500/500 [00:38<00:00, 13.14it/s]\n"
     ]
    },
    {
     "name": "stdout",
     "output_type": "stream",
     "text": [
      "VALIDATION LOSSES ON EPOCH 192: tensor(1.5038)\n"
     ]
    },
    {
     "name": "stderr",
     "output_type": "stream",
     "text": [
      "train epoch 193: 100%|██████████| 1000/1000 [01:27<00:00, 11.40it/s]"
     ]
    },
    {
     "name": "stdout",
     "output_type": "stream",
     "text": [
      "time 87.71805620193481\n",
      "193 EPOCH TIME: 1.0 mins 28 sec\n"
     ]
    },
    {
     "name": "stderr",
     "output_type": "stream",
     "text": [
      "\n",
      "test model: 100%|██████████| 500/500 [00:38<00:00, 13.15it/s]\n"
     ]
    },
    {
     "name": "stdout",
     "output_type": "stream",
     "text": [
      "VALIDATION LOSSES ON EPOCH 193: tensor(1.6415)\n"
     ]
    },
    {
     "name": "stderr",
     "output_type": "stream",
     "text": [
      "train epoch 194: 100%|██████████| 1000/1000 [01:28<00:00, 11.30it/s]"
     ]
    },
    {
     "name": "stdout",
     "output_type": "stream",
     "text": [
      "time 88.45836925506592\n",
      "194 EPOCH TIME: 1.0 mins 28 sec\n"
     ]
    },
    {
     "name": "stderr",
     "output_type": "stream",
     "text": [
      "\n",
      "test model: 100%|██████████| 500/500 [00:37<00:00, 13.18it/s]\n"
     ]
    },
    {
     "name": "stdout",
     "output_type": "stream",
     "text": [
      "VALIDATION LOSSES ON EPOCH 194: tensor(1.4811)\n"
     ]
    },
    {
     "name": "stderr",
     "output_type": "stream",
     "text": [
      "train epoch 195: 100%|██████████| 1000/1000 [01:28<00:00, 11.30it/s]"
     ]
    },
    {
     "name": "stdout",
     "output_type": "stream",
     "text": [
      "time 88.51927447319031\n",
      "195 EPOCH TIME: 1.0 mins 29 sec\n"
     ]
    },
    {
     "name": "stderr",
     "output_type": "stream",
     "text": [
      "\n",
      "test model: 100%|██████████| 500/500 [00:38<00:00, 13.13it/s]\n"
     ]
    },
    {
     "name": "stdout",
     "output_type": "stream",
     "text": [
      "VALIDATION LOSSES ON EPOCH 195: tensor(1.6032)\n"
     ]
    },
    {
     "name": "stderr",
     "output_type": "stream",
     "text": [
      "train epoch 196: 100%|██████████| 1000/1000 [01:27<00:00, 11.41it/s]"
     ]
    },
    {
     "name": "stdout",
     "output_type": "stream",
     "text": [
      "time 87.61686778068542\n",
      "196 EPOCH TIME: 1.0 mins 28 sec\n"
     ]
    },
    {
     "name": "stderr",
     "output_type": "stream",
     "text": [
      "\n",
      "test model: 100%|██████████| 500/500 [00:38<00:00, 13.07it/s]\n"
     ]
    },
    {
     "name": "stdout",
     "output_type": "stream",
     "text": [
      "VALIDATION LOSSES ON EPOCH 196: tensor(1.5052)\n"
     ]
    },
    {
     "name": "stderr",
     "output_type": "stream",
     "text": [
      "train epoch 197: 100%|██████████| 1000/1000 [01:27<00:00, 11.42it/s]"
     ]
    },
    {
     "name": "stdout",
     "output_type": "stream",
     "text": [
      "time 87.55762600898743\n",
      "197 EPOCH TIME: 1.0 mins 28 sec\n"
     ]
    },
    {
     "name": "stderr",
     "output_type": "stream",
     "text": [
      "\n",
      "test model: 100%|██████████| 500/500 [00:37<00:00, 13.29it/s]\n"
     ]
    },
    {
     "name": "stdout",
     "output_type": "stream",
     "text": [
      "VALIDATION LOSSES ON EPOCH 197: tensor(1.5848)\n"
     ]
    },
    {
     "name": "stderr",
     "output_type": "stream",
     "text": [
      "train epoch 198: 100%|██████████| 1000/1000 [01:27<00:00, 11.43it/s]"
     ]
    },
    {
     "name": "stdout",
     "output_type": "stream",
     "text": [
      "time 87.51530194282532\n",
      "198 EPOCH TIME: 1.0 mins 28 sec\n"
     ]
    },
    {
     "name": "stderr",
     "output_type": "stream",
     "text": [
      "\n",
      "test model: 100%|██████████| 500/500 [00:37<00:00, 13.20it/s]\n"
     ]
    },
    {
     "name": "stdout",
     "output_type": "stream",
     "text": [
      "VALIDATION LOSSES ON EPOCH 198: tensor(1.5174)\n"
     ]
    },
    {
     "name": "stderr",
     "output_type": "stream",
     "text": [
      "train epoch 199: 100%|██████████| 1000/1000 [01:28<00:00, 11.28it/s]"
     ]
    },
    {
     "name": "stdout",
     "output_type": "stream",
     "text": [
      "time 88.62365531921387\n",
      "199 EPOCH TIME: 1.0 mins 29 sec\n"
     ]
    },
    {
     "name": "stderr",
     "output_type": "stream",
     "text": [
      "\n",
      "test model: 100%|██████████| 500/500 [00:37<00:00, 13.17it/s]\n"
     ]
    },
    {
     "name": "stdout",
     "output_type": "stream",
     "text": [
      "VALIDATION LOSSES ON EPOCH 199: tensor(1.5291)\n"
     ]
    },
    {
     "name": "stderr",
     "output_type": "stream",
     "text": [
      "train epoch 200: 100%|██████████| 1000/1000 [01:28<00:00, 11.29it/s]"
     ]
    },
    {
     "name": "stdout",
     "output_type": "stream",
     "text": [
      "time 88.56591844558716\n",
      "200 EPOCH TIME: 1.0 mins 29 sec\n"
     ]
    },
    {
     "name": "stderr",
     "output_type": "stream",
     "text": [
      "\n",
      "test model: 100%|██████████| 500/500 [00:38<00:00, 13.07it/s]\n"
     ]
    },
    {
     "name": "stdout",
     "output_type": "stream",
     "text": [
      "VALIDATION LOSSES ON EPOCH 200: tensor(1.4769)\n"
     ]
    },
    {
     "name": "stderr",
     "output_type": "stream",
     "text": [
      "train epoch 201: 100%|██████████| 1000/1000 [01:28<00:00, 11.29it/s]\n"
     ]
    },
    {
     "name": "stdout",
     "output_type": "stream",
     "text": [
      "time 88.60393691062927\n",
      "201 EPOCH TIME: 1.0 mins 29 sec\n"
     ]
    },
    {
     "name": "stderr",
     "output_type": "stream",
     "text": [
      "test model: 100%|██████████| 500/500 [00:37<00:00, 13.25it/s]\n"
     ]
    },
    {
     "name": "stdout",
     "output_type": "stream",
     "text": [
      "VALIDATION LOSSES ON EPOCH 201: tensor(1.5094)\n"
     ]
    },
    {
     "name": "stderr",
     "output_type": "stream",
     "text": [
      "train epoch 202: 100%|██████████| 1000/1000 [01:27<00:00, 11.46it/s]"
     ]
    },
    {
     "name": "stdout",
     "output_type": "stream",
     "text": [
      "time 87.28985404968262\n",
      "202 EPOCH TIME: 1.0 mins 27 sec\n"
     ]
    },
    {
     "name": "stderr",
     "output_type": "stream",
     "text": [
      "\n",
      "test model: 100%|██████████| 500/500 [00:38<00:00, 12.96it/s]\n"
     ]
    },
    {
     "name": "stdout",
     "output_type": "stream",
     "text": [
      "VALIDATION LOSSES ON EPOCH 202: tensor(1.6597)\n"
     ]
    },
    {
     "name": "stderr",
     "output_type": "stream",
     "text": [
      "train epoch 203: 100%|██████████| 1000/1000 [01:27<00:00, 11.47it/s]"
     ]
    },
    {
     "name": "stdout",
     "output_type": "stream",
     "text": [
      "time 87.16173458099365\n",
      "203 EPOCH TIME: 1.0 mins 27 sec\n"
     ]
    },
    {
     "name": "stderr",
     "output_type": "stream",
     "text": [
      "\n",
      "test model: 100%|██████████| 500/500 [00:37<00:00, 13.22it/s]\n"
     ]
    },
    {
     "name": "stdout",
     "output_type": "stream",
     "text": [
      "VALIDATION LOSSES ON EPOCH 203: tensor(1.6306)\n"
     ]
    },
    {
     "name": "stderr",
     "output_type": "stream",
     "text": [
      "train epoch 204: 100%|██████████| 1000/1000 [01:28<00:00, 11.36it/s]"
     ]
    },
    {
     "name": "stdout",
     "output_type": "stream",
     "text": [
      "time 88.01579904556274\n",
      "204 EPOCH TIME: 1.0 mins 28 sec\n"
     ]
    },
    {
     "name": "stderr",
     "output_type": "stream",
     "text": [
      "\n",
      "test model: 100%|██████████| 500/500 [00:38<00:00, 13.03it/s]\n"
     ]
    },
    {
     "name": "stdout",
     "output_type": "stream",
     "text": [
      "VALIDATION LOSSES ON EPOCH 204: tensor(1.5307)\n"
     ]
    },
    {
     "name": "stderr",
     "output_type": "stream",
     "text": [
      "train epoch 205: 100%|██████████| 1000/1000 [01:27<00:00, 11.38it/s]"
     ]
    },
    {
     "name": "stdout",
     "output_type": "stream",
     "text": [
      "time 87.873783826828\n",
      "205 EPOCH TIME: 1.0 mins 28 sec\n"
     ]
    },
    {
     "name": "stderr",
     "output_type": "stream",
     "text": [
      "\n",
      "test model: 100%|██████████| 500/500 [00:38<00:00, 13.04it/s]\n"
     ]
    },
    {
     "name": "stdout",
     "output_type": "stream",
     "text": [
      "VALIDATION LOSSES ON EPOCH 205: tensor(1.4934)\n"
     ]
    },
    {
     "name": "stderr",
     "output_type": "stream",
     "text": [
      "train epoch 206: 100%|██████████| 1000/1000 [01:27<00:00, 11.43it/s]"
     ]
    },
    {
     "name": "stdout",
     "output_type": "stream",
     "text": [
      "time 87.51239228248596\n",
      "206 EPOCH TIME: 1.0 mins 28 sec\n"
     ]
    },
    {
     "name": "stderr",
     "output_type": "stream",
     "text": [
      "\n",
      "test model: 100%|██████████| 500/500 [00:38<00:00, 13.13it/s]\n"
     ]
    },
    {
     "name": "stdout",
     "output_type": "stream",
     "text": [
      "VALIDATION LOSSES ON EPOCH 206: tensor(1.5006)\n"
     ]
    },
    {
     "name": "stderr",
     "output_type": "stream",
     "text": [
      "train epoch 207: 100%|██████████| 1000/1000 [01:27<00:00, 11.38it/s]"
     ]
    },
    {
     "name": "stdout",
     "output_type": "stream",
     "text": [
      "time 87.8700487613678\n",
      "207 EPOCH TIME: 1.0 mins 28 sec\n"
     ]
    },
    {
     "name": "stderr",
     "output_type": "stream",
     "text": [
      "\n",
      "test model: 100%|██████████| 500/500 [00:37<00:00, 13.16it/s]\n"
     ]
    },
    {
     "name": "stdout",
     "output_type": "stream",
     "text": [
      "VALIDATION LOSSES ON EPOCH 207: tensor(1.4411)\n"
     ]
    },
    {
     "name": "stderr",
     "output_type": "stream",
     "text": [
      "train epoch 208: 100%|██████████| 1000/1000 [01:27<00:00, 11.42it/s]"
     ]
    },
    {
     "name": "stdout",
     "output_type": "stream",
     "text": [
      "time 87.60087895393372\n",
      "208 EPOCH TIME: 1.0 mins 28 sec\n"
     ]
    },
    {
     "name": "stderr",
     "output_type": "stream",
     "text": [
      "\n",
      "test model: 100%|██████████| 500/500 [00:37<00:00, 13.25it/s]\n"
     ]
    },
    {
     "name": "stdout",
     "output_type": "stream",
     "text": [
      "VALIDATION LOSSES ON EPOCH 208: tensor(1.5455)\n"
     ]
    },
    {
     "name": "stderr",
     "output_type": "stream",
     "text": [
      "train epoch 209: 100%|██████████| 1000/1000 [01:27<00:00, 11.45it/s]"
     ]
    },
    {
     "name": "stdout",
     "output_type": "stream",
     "text": [
      "time 87.36398029327393\n",
      "209 EPOCH TIME: 1.0 mins 27 sec\n"
     ]
    },
    {
     "name": "stderr",
     "output_type": "stream",
     "text": [
      "\n",
      "test model: 100%|██████████| 500/500 [00:38<00:00, 13.15it/s]\n"
     ]
    },
    {
     "name": "stdout",
     "output_type": "stream",
     "text": [
      "VALIDATION LOSSES ON EPOCH 209: tensor(1.5848)\n"
     ]
    },
    {
     "name": "stderr",
     "output_type": "stream",
     "text": [
      "train epoch 210: 100%|██████████| 1000/1000 [01:28<00:00, 11.24it/s]"
     ]
    },
    {
     "name": "stdout",
     "output_type": "stream",
     "text": [
      "time 88.97295689582825\n",
      "210 EPOCH TIME: 1.0 mins 29 sec\n"
     ]
    },
    {
     "name": "stderr",
     "output_type": "stream",
     "text": [
      "\n",
      "test model: 100%|██████████| 500/500 [00:37<00:00, 13.28it/s]\n"
     ]
    },
    {
     "name": "stdout",
     "output_type": "stream",
     "text": [
      "VALIDATION LOSSES ON EPOCH 210: tensor(1.7289)\n"
     ]
    },
    {
     "name": "stderr",
     "output_type": "stream",
     "text": [
      "train epoch 211: 100%|██████████| 1000/1000 [01:29<00:00, 11.15it/s]"
     ]
    },
    {
     "name": "stdout",
     "output_type": "stream",
     "text": [
      "time 89.6904628276825\n",
      "211 EPOCH TIME: 1.0 mins 30 sec\n"
     ]
    },
    {
     "name": "stderr",
     "output_type": "stream",
     "text": [
      "\n",
      "test model: 100%|██████████| 500/500 [00:38<00:00, 13.14it/s]\n"
     ]
    },
    {
     "name": "stdout",
     "output_type": "stream",
     "text": [
      "VALIDATION LOSSES ON EPOCH 211: tensor(1.4837)\n"
     ]
    },
    {
     "name": "stderr",
     "output_type": "stream",
     "text": [
      "train epoch 212: 100%|██████████| 1000/1000 [01:28<00:00, 11.24it/s]"
     ]
    },
    {
     "name": "stdout",
     "output_type": "stream",
     "text": [
      "time 88.9742271900177\n",
      "212 EPOCH TIME: 1.0 mins 29 sec\n"
     ]
    },
    {
     "name": "stderr",
     "output_type": "stream",
     "text": [
      "\n",
      "test model: 100%|██████████| 500/500 [00:37<00:00, 13.20it/s]\n"
     ]
    },
    {
     "name": "stdout",
     "output_type": "stream",
     "text": [
      "VALIDATION LOSSES ON EPOCH 212: tensor(1.4429)\n"
     ]
    },
    {
     "name": "stderr",
     "output_type": "stream",
     "text": [
      "train epoch 213: 100%|██████████| 1000/1000 [01:29<00:00, 11.22it/s]"
     ]
    },
    {
     "name": "stdout",
     "output_type": "stream",
     "text": [
      "time 89.14080262184143\n",
      "213 EPOCH TIME: 1.0 mins 29 sec\n"
     ]
    },
    {
     "name": "stderr",
     "output_type": "stream",
     "text": [
      "\n",
      "test model: 100%|██████████| 500/500 [00:38<00:00, 13.14it/s]\n"
     ]
    },
    {
     "name": "stdout",
     "output_type": "stream",
     "text": [
      "VALIDATION LOSSES ON EPOCH 213: tensor(1.8707)\n"
     ]
    },
    {
     "name": "stderr",
     "output_type": "stream",
     "text": [
      "train epoch 214: 100%|██████████| 1000/1000 [01:27<00:00, 11.39it/s]"
     ]
    },
    {
     "name": "stdout",
     "output_type": "stream",
     "text": [
      "time 87.76645183563232\n",
      "214 EPOCH TIME: 1.0 mins 28 sec\n"
     ]
    },
    {
     "name": "stderr",
     "output_type": "stream",
     "text": [
      "\n",
      "test model: 100%|██████████| 500/500 [00:38<00:00, 12.99it/s]\n"
     ]
    },
    {
     "name": "stdout",
     "output_type": "stream",
     "text": [
      "VALIDATION LOSSES ON EPOCH 214: tensor(1.5230)\n"
     ]
    },
    {
     "name": "stderr",
     "output_type": "stream",
     "text": [
      "train epoch 215: 100%|██████████| 1000/1000 [01:29<00:00, 11.21it/s]"
     ]
    },
    {
     "name": "stdout",
     "output_type": "stream",
     "text": [
      "time 89.20822525024414\n",
      "215 EPOCH TIME: 1.0 mins 29 sec\n"
     ]
    },
    {
     "name": "stderr",
     "output_type": "stream",
     "text": [
      "\n",
      "test model: 100%|██████████| 500/500 [00:37<00:00, 13.20it/s]\n"
     ]
    },
    {
     "name": "stdout",
     "output_type": "stream",
     "text": [
      "VALIDATION LOSSES ON EPOCH 215: tensor(1.4602)\n"
     ]
    },
    {
     "name": "stderr",
     "output_type": "stream",
     "text": [
      "train epoch 216: 100%|██████████| 1000/1000 [01:28<00:00, 11.24it/s]"
     ]
    },
    {
     "name": "stdout",
     "output_type": "stream",
     "text": [
      "time 88.97097897529602\n",
      "216 EPOCH TIME: 1.0 mins 29 sec\n"
     ]
    },
    {
     "name": "stderr",
     "output_type": "stream",
     "text": [
      "\n",
      "train epoch 217: 100%|██████████| 1000/1000 [01:28<00:00, 11.31it/s]"
     ]
    },
    {
     "name": "stdout",
     "output_type": "stream",
     "text": [
      "time 88.4482204914093\n",
      "217 EPOCH TIME: 1.0 mins 28 sec\n"
     ]
    },
    {
     "name": "stderr",
     "output_type": "stream",
     "text": [
      "\n",
      "test model: 100%|██████████| 500/500 [00:38<00:00, 13.08it/s]\n"
     ]
    },
    {
     "name": "stdout",
     "output_type": "stream",
     "text": [
      "VALIDATION LOSSES ON EPOCH 217: tensor(1.4795)\n"
     ]
    },
    {
     "name": "stderr",
     "output_type": "stream",
     "text": [
      "train epoch 218: 100%|██████████| 1000/1000 [01:28<00:00, 11.29it/s]"
     ]
    },
    {
     "name": "stdout",
     "output_type": "stream",
     "text": [
      "time 88.57138586044312\n",
      "218 EPOCH TIME: 1.0 mins 29 sec\n"
     ]
    },
    {
     "name": "stderr",
     "output_type": "stream",
     "text": [
      "\n",
      "test model: 100%|██████████| 500/500 [00:37<00:00, 13.31it/s]\n"
     ]
    },
    {
     "name": "stdout",
     "output_type": "stream",
     "text": [
      "VALIDATION LOSSES ON EPOCH 218: tensor(1.4760)\n"
     ]
    },
    {
     "name": "stderr",
     "output_type": "stream",
     "text": [
      "train epoch 219: 100%|██████████| 1000/1000 [01:29<00:00, 11.21it/s]"
     ]
    },
    {
     "name": "stdout",
     "output_type": "stream",
     "text": [
      "time 89.18735361099243\n",
      "219 EPOCH TIME: 1.0 mins 29 sec\n"
     ]
    },
    {
     "name": "stderr",
     "output_type": "stream",
     "text": [
      "\n",
      "test model: 100%|██████████| 500/500 [00:38<00:00, 13.12it/s]\n"
     ]
    },
    {
     "name": "stdout",
     "output_type": "stream",
     "text": [
      "VALIDATION LOSSES ON EPOCH 219: tensor(1.4956)\n"
     ]
    },
    {
     "name": "stderr",
     "output_type": "stream",
     "text": [
      "train epoch 220: 100%|██████████| 1000/1000 [01:28<00:00, 11.32it/s]"
     ]
    },
    {
     "name": "stdout",
     "output_type": "stream",
     "text": [
      "time 88.36470413208008\n",
      "220 EPOCH TIME: 1.0 mins 28 sec\n"
     ]
    },
    {
     "name": "stderr",
     "output_type": "stream",
     "text": [
      "\n",
      "test model: 100%|██████████| 500/500 [00:38<00:00, 13.04it/s]\n"
     ]
    },
    {
     "name": "stdout",
     "output_type": "stream",
     "text": [
      "VALIDATION LOSSES ON EPOCH 220: tensor(1.5652)\n"
     ]
    },
    {
     "name": "stderr",
     "output_type": "stream",
     "text": [
      "train epoch 221:  96%|█████████▌| 960/1000 [01:24<00:03, 10.48it/s]IOPub message rate exceeded.\n",
      "The notebook server will temporarily stop sending output\n",
      "to the client in order to avoid crashing it.\n",
      "To change this limit, set the config variable\n",
      "`--NotebookApp.iopub_msg_rate_limit`.\n",
      "\n",
      "Current values:\n",
      "NotebookApp.iopub_msg_rate_limit=1000.0 (msgs/sec)\n",
      "NotebookApp.rate_limit_window=3.0 (secs)\n",
      "\n",
      "train epoch 224:  66%|██████▌   | 656/1000 [00:58<00:29, 11.56it/s]"
     ]
    }
   ],
   "source": [
    "from time import time\n",
    "epochs = 1000\n",
    "\n",
    "min_val_loss = 1e6\n",
    "\n",
    "for epoch in range(epochs):\n",
    "    eptimest=time()\n",
    "    train_epoch(epoch)\n",
    "    eptime = time()-eptimest\n",
    "    epmin = eptime//60\n",
    "    epsec = round(eptime%60)\n",
    "    print(epoch, \"EPOCH TIME: {epmin:3} mins {epsec:2} sec\".format(epmin=epmin, epsec=epsec))\n",
    "    val_loss = validate(epoch)\n",
    "    if val_loss < min_val_loss:\n",
    "        print('NEW BEST!')\n",
    "        torch.save(model.state_dict(), 'best_model.pth')\n",
    "        min_val_loss = val_loss        \n",
    "    torch.save(model.state_dict(), 'latest_model.pth')"
   ]
  },
  {
   "cell_type": "code",
   "execution_count": 1,
   "metadata": {},
   "outputs": [
    {
     "data": {
      "text/plain": [
       "True"
      ]
     },
     "execution_count": 1,
     "metadata": {},
     "output_type": "execute_result"
    }
   ],
   "source": [
    "import torch\n",
    "torch.cuda.is_available()"
   ]
  },
  {
   "cell_type": "code",
   "execution_count": 27,
   "metadata": {},
   "outputs": [
    {
     "data": {
      "text/plain": [
       "tensor(16.0764)"
      ]
     },
     "execution_count": 27,
     "metadata": {},
     "output_type": "execute_result"
    }
   ],
   "source": [
    "torch.tensor(losses).mean()"
   ]
  },
  {
   "cell_type": "code",
   "execution_count": null,
   "metadata": {},
   "outputs": [],
   "source": [
    "'dsadsads'.в"
   ]
  }
 ],
 "metadata": {
  "kernelspec": {
   "display_name": "Python 3",
   "language": "python",
   "name": "python3"
  },
  "language_info": {
   "codemirror_mode": {
    "name": "ipython",
    "version": 3
   },
   "file_extension": ".py",
   "mimetype": "text/x-python",
   "name": "python",
   "nbconvert_exporter": "python",
   "pygments_lexer": "ipython3",
   "version": "3.8.5"
  }
 },
 "nbformat": 4,
 "nbformat_minor": 4
}
